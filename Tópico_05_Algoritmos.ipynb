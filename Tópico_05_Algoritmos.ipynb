{
  "nbformat": 4,
  "nbformat_minor": 0,
  "metadata": {
    "colab": {
      "provenance": [],
      "toc_visible": true
    },
    "kernelspec": {
      "name": "python3",
      "display_name": "Python 3"
    },
    "language_info": {
      "name": "python"
    }
  },
  "cells": [
    {
      "cell_type": "markdown",
      "source": [
        "# **LISTAS**"
      ],
      "metadata": {
        "id": "gKscxP7mrqu2"
      }
    },
    {
      "cell_type": "markdown",
      "source": [
        "1. O programa abaixo preenche uma lista com 5 elementos e depois calcula a média entre eles. Modifique o programa para que alimente uma lista com sete elementos."
      ],
      "metadata": {
        "id": "XX8FzXBlsnPB"
      }
    },
    {
      "cell_type": "code",
      "source": [
        "notas=[0,0,0,0,0,0,0]\n",
        "soma=0\n",
        "x=0\n",
        "while x< len(notas):\n",
        "  notas[x]=float(input(\"Nota %d:\" % x))\n",
        "  soma += notas[x]\n",
        "  x+=1\n",
        "x=0\n",
        "while x < len(notas):\n",
        "  print(\"Nota %d: %6.2f\" % (x, notas[x]))\n",
        "  x+=1\n",
        "print(\"Média: %5.2f\" % (soma/x))"
      ],
      "metadata": {
        "id": "VerWsWORsJDq",
        "colab": {
          "base_uri": "https://localhost:8080/"
        },
        "outputId": "edd23a6a-3d94-4f3f-ec44-003dc79202b4"
      },
      "execution_count": 1,
      "outputs": [
        {
          "output_type": "stream",
          "name": "stdout",
          "text": [
            "Nota 0:6\n",
            "Nota 1:4\n",
            "Nota 2:9\n",
            "Nota 3:10\n",
            "Nota 4:8\n",
            "Nota 5:7\n",
            "Nota 6:9\n",
            "Nota 0:   6.00\n",
            "Nota 1:   4.00\n",
            "Nota 2:   9.00\n",
            "Nota 3:  10.00\n",
            "Nota 4:   8.00\n",
            "Nota 5:   7.00\n",
            "Nota 6:   9.00\n",
            "Média:  7.57\n"
          ]
        }
      ]
    },
    {
      "cell_type": "code",
      "source": [],
      "metadata": {
        "id": "gDm6co4tsQXt"
      },
      "execution_count": null,
      "outputs": []
    },
    {
      "cell_type": "markdown",
      "source": [
        "2. Escreva um programa leia cinco números, armazene-os em uma lista e depois solicita que o usuário escolha um número para mostrar."
      ],
      "metadata": {
        "id": "DAMJ2i7dtDlj"
      }
    },
    {
      "cell_type": "code",
      "source": [],
      "metadata": {
        "id": "-okKwE3bh7W6"
      },
      "execution_count": null,
      "outputs": []
    },
    {
      "cell_type": "markdown",
      "source": [
        "3. Dada a lista abaixo, execute cada um dos exercicios procurando entender como o fatiamento de listas funciona. Escreva no campo apropriado, as suas conclusões."
      ],
      "metadata": {
        "id": "HPedmb_uh7__"
      }
    },
    {
      "cell_type": "code",
      "source": [
        "L=[1,2,3,4,5]"
      ],
      "metadata": {
        "id": "ui81RLZCiOH6"
      },
      "execution_count": null,
      "outputs": []
    },
    {
      "cell_type": "code",
      "source": [
        "print(\"L[0:5]= \", L[0:5])"
      ],
      "metadata": {
        "id": "V3XX0EYQiZPJ"
      },
      "execution_count": null,
      "outputs": []
    },
    {
      "cell_type": "code",
      "source": [
        "print(\"L[:5] = \", L[:5])"
      ],
      "metadata": {
        "id": "nu9_N1snibQ-"
      },
      "execution_count": null,
      "outputs": []
    },
    {
      "cell_type": "code",
      "source": [
        "print(\"L[:-1]= \", L[:-1])"
      ],
      "metadata": {
        "id": "Giv5-ENDidAH"
      },
      "execution_count": null,
      "outputs": []
    },
    {
      "cell_type": "code",
      "source": [
        "print(\"L[1:3]= \", L[1:3])"
      ],
      "metadata": {
        "id": "4PkmJhZoifC3"
      },
      "execution_count": null,
      "outputs": []
    },
    {
      "cell_type": "code",
      "source": [
        "print(\"L[1:4]= \", L[1:4])"
      ],
      "metadata": {
        "id": "WeI2JkociggD"
      },
      "execution_count": null,
      "outputs": []
    },
    {
      "cell_type": "code",
      "source": [
        "print(\"L[3:] = \", L[3:])"
      ],
      "metadata": {
        "id": "t8dLKa9iiiSA"
      },
      "execution_count": null,
      "outputs": []
    },
    {
      "cell_type": "code",
      "source": [
        "print(\"L[:3] = \", L[:3])"
      ],
      "metadata": {
        "id": "V6rBZIOwioNv"
      },
      "execution_count": null,
      "outputs": []
    },
    {
      "cell_type": "code",
      "source": [
        "print(\"L[-1] = \", L[-1])"
      ],
      "metadata": {
        "id": "fvbI7IXTisLV"
      },
      "execution_count": null,
      "outputs": []
    },
    {
      "cell_type": "code",
      "source": [
        "print(\"L[-2] = \", L[-2])"
      ],
      "metadata": {
        "id": "WlbAaUHeiuNh"
      },
      "execution_count": null,
      "outputs": []
    },
    {
      "cell_type": "markdown",
      "source": [
        "Comente aqui sobe o seu entendimento sobre o funcionamento do fatiamento das listas\n",
        "\n",
        "---\n",
        "\n"
      ],
      "metadata": {
        "id": "OSJSo5pyjds2"
      }
    },
    {
      "cell_type": "markdown",
      "source": [
        "4. Altere o algoritmo abaixo, utilizando a função **len()** para controlar a condição de parada do loop."
      ],
      "metadata": {
        "id": "rkc4JRsljx5Q"
      }
    },
    {
      "cell_type": "code",
      "source": [
        "L=[1,2,3]\n",
        "x=0\n",
        "while x < 3:\n",
        "  print(L[x])\n",
        "  x+=1"
      ],
      "metadata": {
        "id": "WUo-XyjNkM37"
      },
      "execution_count": null,
      "outputs": []
    },
    {
      "cell_type": "code",
      "source": [],
      "metadata": {
        "id": "CfhXgsGDkNtw"
      },
      "execution_count": null,
      "outputs": []
    },
    {
      "cell_type": "markdown",
      "source": [
        "# **append e extend**"
      ],
      "metadata": {
        "id": "2bhkJzG3mRwj"
      }
    },
    {
      "cell_type": "markdown",
      "source": [
        "O método append() adiciona um único elemento no final de uma lista.\n",
        "\n",
        "O método .extend() aumenta o comprimento da lista pelo número de elementos que são fornecidos ao método, então se você quiser adicionar vários elementos à lista, você pode usar este método.\n",
        "\n",
        "Execute os exercícios abaixo para entender a diferença entre os dosi metodos."
      ],
      "metadata": {
        "id": "XRwWkReswzN_"
      }
    },
    {
      "cell_type": "code",
      "source": [
        "meses = ['Janeiro', 'Fevereiro', 'Março']\n",
        "meses.append('Abril')\n",
        "print(meses)"
      ],
      "metadata": {
        "id": "k1N95oQzyGru"
      },
      "execution_count": null,
      "outputs": []
    },
    {
      "cell_type": "code",
      "source": [
        "x = [1, 2, 3]\n",
        "x.append(4)\n",
        "x"
      ],
      "metadata": {
        "id": "_MVVXS_zy-8B"
      },
      "execution_count": null,
      "outputs": []
    },
    {
      "cell_type": "code",
      "source": [
        "x = [1, 2, 3]\n",
        "x.extend([4, 5])\n",
        "x"
      ],
      "metadata": {
        "id": "RhPeGzvUzUHN"
      },
      "execution_count": null,
      "outputs": []
    },
    {
      "cell_type": "code",
      "source": [
        "empresas =  ['PwC', 'Cacau Show', 'Nielsen']\n",
        "empresas.append('Santander')\n",
        "print(empresas)"
      ],
      "metadata": {
        "id": "3B3mNBvHzcKn"
      },
      "execution_count": null,
      "outputs": []
    },
    {
      "cell_type": "code",
      "source": [
        "maisElementos = ['Extra', 'americanas']\n",
        "empresas.extend(maisElementos)\n",
        "print(empresas)"
      ],
      "metadata": {
        "id": "oaAuraQw0S9A"
      },
      "execution_count": null,
      "outputs": []
    },
    {
      "cell_type": "code",
      "source": [
        "maisElementos = ['Banco do Brasil', 'Submarino']\n",
        "empresas.append(maisElementos)\n",
        "print(empresas)"
      ],
      "metadata": {
        "id": "V5lB2nEC0xSC"
      },
      "execution_count": null,
      "outputs": []
    },
    {
      "cell_type": "code",
      "source": [
        "L=[\"a\"]\n",
        "print(L)"
      ],
      "metadata": {
        "id": "NW005X7117Kv"
      },
      "execution_count": null,
      "outputs": []
    },
    {
      "cell_type": "code",
      "source": [
        "L.append(\"b\")\n",
        "print(L)"
      ],
      "metadata": {
        "id": "yEPrGbre2EVY"
      },
      "execution_count": null,
      "outputs": []
    },
    {
      "cell_type": "code",
      "source": [
        "L.extend([\"c\"])\n",
        "print(L)"
      ],
      "metadata": {
        "id": "d43zKw6a2Iq6"
      },
      "execution_count": null,
      "outputs": []
    },
    {
      "cell_type": "code",
      "source": [
        "L.append([\"d\",\"e\"])\n",
        "print(L)"
      ],
      "metadata": {
        "id": "NLCqtVtg2LjV"
      },
      "execution_count": null,
      "outputs": []
    },
    {
      "cell_type": "code",
      "source": [
        "L.extend([\"f\",\"g\",\"h\"])\n",
        "print(L)"
      ],
      "metadata": {
        "id": "hmAqDexP2OH1"
      },
      "execution_count": null,
      "outputs": []
    },
    {
      "cell_type": "markdown",
      "source": [
        "1. Faça um programa que leia duas listas e que gere uma terceira com os elementos das duas primeiras."
      ],
      "metadata": {
        "id": "PmoZoJTXkqxc"
      }
    },
    {
      "cell_type": "code",
      "source": [],
      "metadata": {
        "id": "nUdlXRzFkv5W"
      },
      "execution_count": null,
      "outputs": []
    },
    {
      "cell_type": "markdown",
      "source": [
        "2. Faça um programa que percorra duas listas e gere uma terceira sem elementos repetidos."
      ],
      "metadata": {
        "id": "9YG-1wmilBp0"
      }
    },
    {
      "cell_type": "code",
      "source": [],
      "metadata": {
        "id": "wB8xfpD4lMec"
      },
      "execution_count": null,
      "outputs": []
    },
    {
      "cell_type": "markdown",
      "source": [
        "# **del**"
      ],
      "metadata": {
        "id": "VqhishDQ2l2P"
      }
    },
    {
      "cell_type": "markdown",
      "source": [
        "Entenda o comando **del**"
      ],
      "metadata": {
        "id": "oxXs9Gny2k7b"
      }
    },
    {
      "cell_type": "code",
      "source": [
        "L=[\"a\",  \"b\", \"c\"]\n",
        "print(L)"
      ],
      "metadata": {
        "id": "zVOYD7O4228R"
      },
      "execution_count": null,
      "outputs": []
    },
    {
      "cell_type": "code",
      "source": [
        "del L[1]\n",
        "print(L)"
      ],
      "metadata": {
        "id": "0apYZHiN2987"
      },
      "execution_count": null,
      "outputs": []
    },
    {
      "cell_type": "code",
      "source": [
        "del L[0]\n",
        "print(L)"
      ],
      "metadata": {
        "id": "L59W9XOA3Aht"
      },
      "execution_count": null,
      "outputs": []
    },
    {
      "cell_type": "code",
      "source": [
        "L = list(range(101))\n",
        "print(L)"
      ],
      "metadata": {
        "id": "fR9X1Tgl3Owv"
      },
      "execution_count": null,
      "outputs": []
    },
    {
      "cell_type": "code",
      "source": [
        "del L[1:99]\n",
        "print(L)"
      ],
      "metadata": {
        "id": "G_wsJKSU3RYD"
      },
      "execution_count": null,
      "outputs": []
    },
    {
      "cell_type": "markdown",
      "source": [
        "# **Pesquisa em uma lista**"
      ],
      "metadata": {
        "id": "hxsXXLUP3zeY"
      }
    },
    {
      "cell_type": "markdown",
      "source": [
        "1. O programa abaixo pesquisa se um elemento está ou não em uma lista, verificando do primeiro ao último elemento se o valor procurado estiver presente. Emtenda esse algoritmo!"
      ],
      "metadata": {
        "id": "S1hj53ls39IN"
      }
    },
    {
      "cell_type": "code",
      "source": [
        "L=[15,7,27,39]\n",
        "p=int(input(\"Digite o valor a procurar:\"))\n",
        "achou=False\n",
        "x=0\n",
        "while x<len(L):\n",
        "  if L[x]==p:\n",
        "    achou=True\n",
        "    break\n",
        "  x+=1\n",
        "if achou:\n",
        "  print(\"%d achado na posição %d\" % (p,x))\n",
        "else:\n",
        "  print(\"%d não encontrado\" % p)"
      ],
      "metadata": {
        "id": "pcvV0-Cv4e6z"
      },
      "execution_count": null,
      "outputs": []
    },
    {
      "cell_type": "markdown",
      "source": [
        "2. Modifique o exemplo anterior de forma a realizar a mesma tarefa, mas sem utilizar a variável **achou**. Dica: observe a condição de saída do while."
      ],
      "metadata": {
        "id": "8l52oh1v47CK"
      }
    },
    {
      "cell_type": "code",
      "source": [
        "L=[15,7,27,39]\n",
        "p=int(input(\"Digite o valor a procurar:\"))\n",
        "x=0\n",
        "while x<len(L):\n",
        "  if L[x]==p:\n",
        "    print(\"%d achado na posição %d\" % (p,x))\n",
        "    break\n",
        "  x+=1\n",
        "if x == len(L):\n",
        "  print(\"%d não encontrado\" % p)"
      ],
      "metadata": {
        "id": "JoEXXj5m5K80"
      },
      "execution_count": null,
      "outputs": []
    },
    {
      "cell_type": "markdown",
      "source": [
        "3. Modifique o exercício **1** para pesquisar dois valores. Em vez de apenas p, leia outro valor v que também será procurado. Na impressão, indique qual dos dois valores foi achado primeiro."
      ],
      "metadata": {
        "id": "mS30eRtd5MdS"
      }
    },
    {
      "cell_type": "code",
      "source": [],
      "metadata": {
        "id": "I8Oye8Kc555Q"
      },
      "execution_count": null,
      "outputs": []
    },
    {
      "cell_type": "markdown",
      "source": [
        "4. Modifique o exercício anterior para pesquisar dois valores. Em vez de apenas p, leia outro valor v que também será procurado. Na impressão, indique qual dos dois valores foi achado primeiro."
      ],
      "metadata": {
        "id": "941lj9uQ7l_W"
      }
    },
    {
      "cell_type": "code",
      "source": [],
      "metadata": {
        "id": "ZXGcIXWy7vWy"
      },
      "execution_count": null,
      "outputs": []
    },
    {
      "cell_type": "markdown",
      "source": [
        "# laço for"
      ],
      "metadata": {
        "id": "f64TwF_a72tI"
      }
    },
    {
      "cell_type": "markdown",
      "source": [
        "Entenda a sintaxe do laço **for**"
      ],
      "metadata": {
        "id": "iPxFfPRY72Ru"
      }
    },
    {
      "cell_type": "code",
      "source": [
        "L=[8,9,15]\n",
        "for e in L:\n",
        "  print(e)"
      ],
      "metadata": {
        "id": "TEFm-Ztx8LQK"
      },
      "execution_count": null,
      "outputs": []
    },
    {
      "cell_type": "code",
      "source": [
        "fruits = [\"apple\", \"banana\", \"cherry\"]\n",
        "for x in fruits:\n",
        "  print(x)"
      ],
      "metadata": {
        "id": "rmQLzfpN9g7Q"
      },
      "execution_count": null,
      "outputs": []
    },
    {
      "cell_type": "code",
      "source": [
        "fruits = [\"apple\", \"banana\", \"cherry\"]\n",
        "for x in fruits:\n",
        "  print(x)\n",
        "  if x == \"banana\":\n",
        "    break"
      ],
      "metadata": {
        "id": "a1eSVA8z9i-W"
      },
      "execution_count": null,
      "outputs": []
    },
    {
      "cell_type": "code",
      "source": [
        "fruits = [\"apple\", \"banana\", \"cherry\"]\n",
        "for x in fruits:\n",
        "  if x == \"banana\":\n",
        "    continue\n",
        "  print(x)"
      ],
      "metadata": {
        "id": "0vSSxS4r97gS"
      },
      "execution_count": null,
      "outputs": []
    },
    {
      "cell_type": "markdown",
      "source": [
        "Função range(): retorna uma sequência de números, começando em 0 por padrão e incrementando em 1 (por padrão) e termina em um número especificado."
      ],
      "metadata": {
        "id": "lXgMwzt5-0U0"
      }
    },
    {
      "cell_type": "code",
      "source": [
        "for x in range(6):\n",
        "  print(x)"
      ],
      "metadata": {
        "id": "i6p3_zre-whE"
      },
      "execution_count": null,
      "outputs": []
    },
    {
      "cell_type": "markdown",
      "source": [
        "1. Modifique o programa abaixo usando **for**. Em seguida, explique por que nem todo **while** podem ser transformados em **for**."
      ],
      "metadata": {
        "id": "ajQHVxkY8eSA"
      }
    },
    {
      "cell_type": "code",
      "source": [
        "L=[]\n",
        "while True:\n",
        "  n=int(input(\"Digite um número (0 sai):\"))\n",
        "  if n == 0:\n",
        "    break\n",
        "  L.append(n)\n",
        "x=0\n",
        "while x < len(L):\n",
        "  print(L[x])\n",
        "  x=x+1"
      ],
      "metadata": {
        "id": "lAxEGFAk8Eo8",
        "colab": {
          "base_uri": "https://localhost:8080/"
        },
        "outputId": "d164da62-10da-467d-bb13-dac51d1405af"
      },
      "execution_count": null,
      "outputs": [
        {
          "name": "stdout",
          "output_type": "stream",
          "text": [
            "Digite um número (0 sai):0\n"
          ]
        }
      ]
    },
    {
      "cell_type": "code",
      "source": [],
      "metadata": {
        "id": "W6o7tjT0S0vA"
      },
      "execution_count": null,
      "outputs": []
    },
    {
      "cell_type": "markdown",
      "source": [
        "2. Faça um programa usando for, que imprima todos os números ímpares de uma dada lista."
      ],
      "metadata": {
        "id": "dybnqQs0-VBP"
      }
    },
    {
      "cell_type": "code",
      "source": [],
      "metadata": {
        "id": "gCc-sEEn-HKN"
      },
      "execution_count": null,
      "outputs": []
    },
    {
      "cell_type": "markdown",
      "source": [
        "# **Listas dentro de listas**"
      ],
      "metadata": {
        "id": "UIPELBAJC12p"
      }
    },
    {
      "cell_type": "code",
      "source": [
        "S=[\"maçãs\", \"peras\", \"kiwis\"]"
      ],
      "metadata": {
        "id": "Fqa00yQxC9x7"
      },
      "execution_count": null,
      "outputs": []
    },
    {
      "cell_type": "code",
      "source": [
        "print(S[0][1])"
      ],
      "metadata": {
        "id": "08u3mwApDIRz",
        "outputId": "5486ac57-9042-4e74-b12d-12dab58ff82a",
        "colab": {
          "base_uri": "https://localhost:8080/"
        }
      },
      "execution_count": null,
      "outputs": [
        {
          "output_type": "stream",
          "name": "stdout",
          "text": [
            "a\n"
          ]
        }
      ]
    },
    {
      "cell_type": "code",
      "source": [
        "print(S[1][1])"
      ],
      "metadata": {
        "id": "vwB-G3hcDK1n"
      },
      "execution_count": null,
      "outputs": []
    },
    {
      "cell_type": "code",
      "source": [
        "print(S[2][2])"
      ],
      "metadata": {
        "id": "ULB0-LeJDMFf"
      },
      "execution_count": null,
      "outputs": []
    },
    {
      "cell_type": "markdown",
      "source": [
        "3. Escreva um algoritmo que imprima todas as letras da lista abaixo. Lembrar que uma string pode ser acessado como uma lista"
      ],
      "metadata": {
        "id": "ig2GQ4vbCLyB"
      }
    },
    {
      "cell_type": "code",
      "source": [
        "S=[\"maçãs\", \"peras\", \"kiwis\"]"
      ],
      "metadata": {
        "id": "xBV9N8hY_KPq"
      },
      "execution_count": null,
      "outputs": []
    },
    {
      "cell_type": "code",
      "source": [],
      "metadata": {
        "id": "E7Y6kZR-XxxL"
      },
      "execution_count": null,
      "outputs": []
    },
    {
      "cell_type": "markdown",
      "source": [
        "4. Entenda o código abaixo."
      ],
      "metadata": {
        "id": "4YjXR1d1Dz8h"
      }
    },
    {
      "cell_type": "code",
      "source": [
        "# Produtos\n",
        "produto1 = [ \"maçã\", 10, 0.30]\n",
        "produto2 = [ \"pera\", 5, 0.75]\n",
        "produto3 = [ \"kiwi\", 4, 0.98]\n",
        "\n",
        "# Compras\n",
        "compras = [ produto1, produto2, produto3]\n",
        "print(compras)\n"
      ],
      "metadata": {
        "id": "uQ6bN5soEHpt"
      },
      "execution_count": null,
      "outputs": []
    },
    {
      "cell_type": "code",
      "source": [
        "# Impressão das compras"
      ],
      "metadata": {
        "id": "5zSrNON3EeQ0"
      },
      "execution_count": null,
      "outputs": []
    },
    {
      "cell_type": "code",
      "source": [
        "for e in compras:\n",
        "  print(\"Produto: %s\" % e[0])\n",
        "  print(\"Quantidade: %d\" % e[1])\n",
        "  print(\"Preço: %5.2f\" % e[2])"
      ],
      "metadata": {
        "id": "9CuRwkvmEk_1"
      },
      "execution_count": null,
      "outputs": []
    },
    {
      "cell_type": "markdown",
      "source": [
        "# **Dicinários**"
      ],
      "metadata": {
        "id": "D2XZy7GUEyLO"
      }
    },
    {
      "cell_type": "markdown",
      "source": [
        "Dicionários consistem em uma estrutura de dados similar às listas, mas com propriedades de acesso diferentes. Um dicionário é composto por um conjunto de chaves e valores. O dicionário em si consiste em relacionar uma chave a um valor específico.\n",
        "Em Python, criamos dicionários utilizando chaves ({}). Cada elemento do dicionário é uma combinação de chave e valor. Por exemplo:"
      ],
      "metadata": {
        "id": "J2HgH4mDE3Lt"
      }
    },
    {
      "cell_type": "code",
      "source": [
        "tabela = {\"Alface\": 0.45,\n",
        "          \"Batata\": 1.20,\n",
        "          \"Tomate\": 2.30,\n",
        "          \"Feijão\": 1.50 }"
      ],
      "metadata": {
        "id": "9JltoeTvFArE"
      },
      "execution_count": null,
      "outputs": []
    },
    {
      "cell_type": "code",
      "source": [
        "print(tabela)"
      ],
      "metadata": {
        "id": "6woMdrp9E2ZE"
      },
      "execution_count": null,
      "outputs": []
    },
    {
      "cell_type": "code",
      "source": [
        "tabela = {\"Alface\": 0.45,\n",
        "          \"Batata\": 1.20,\n",
        "          \"Tomate\": 2.30,\n",
        "          \"Feijão\": 1.50 }\n",
        "\n",
        "print(tabela)"
      ],
      "metadata": {
        "id": "R8Cnu0zkFgjd"
      },
      "execution_count": null,
      "outputs": []
    },
    {
      "cell_type": "code",
      "source": [
        "print(tabela)"
      ],
      "metadata": {
        "id": "QAYoYnDNGJH-"
      },
      "execution_count": null,
      "outputs": []
    },
    {
      "cell_type": "code",
      "source": [
        "print(tabela[\"Tomate\"])"
      ],
      "metadata": {
        "id": "OkMEx7IjGX1i"
      },
      "execution_count": null,
      "outputs": []
    },
    {
      "cell_type": "code",
      "source": [
        "tabela[\"Cebola\"] = 1.20\n",
        "print(tabela)"
      ],
      "metadata": {
        "id": "1zjeFAHyGSHl"
      },
      "execution_count": null,
      "outputs": []
    },
    {
      "cell_type": "markdown",
      "source": [
        "1. Compreenda o funcionameno do programa abaixo."
      ],
      "metadata": {
        "id": "zvwcujXtGqc2"
      }
    },
    {
      "cell_type": "code",
      "source": [
        "tabela = { \t\"Alface\": 0.45,\n",
        "\t\t\"Batata\": 1.20,\n",
        "\t\t\"Tomate\": 2.30,\n",
        "\t\t\"Feijão\": 1.50 }\n",
        "while True:\n",
        "  produto=input(\"Digite o nome do produto, fim para terminar:\")\n",
        "  if produto == \"fim\":\n",
        "    break\n",
        "  if produto in tabela:\n",
        "    print(\"Preço %5.2f\" % tabela[produto])\n",
        "  else:\n",
        "    print(\"Produto não encontrado!\")"
      ],
      "metadata": {
        "id": "OuSib_RNGrG_"
      },
      "execution_count": null,
      "outputs": []
    },
    {
      "cell_type": "markdown",
      "source": [
        "Em Python, podemos ter dicionários nos quais as chaves são associadas a listas ou mesmo a outros dicionários. Imagine uma relação de estoque de mercadorias onde teríamos, além do preço, a quantidade em estoque."
      ],
      "metadata": {
        "id": "3R_m1_YfHcDU"
      }
    },
    {
      "cell_type": "code",
      "source": [
        "estoque = {\"tomate\": [ 1000, 2.30],\n",
        "\t         \"alface\": [ 500, 0.45],\n",
        "           \"batata\": [ 2001, 1.20],\n",
        "           \"feijão\": [ 100, 1.50]}"
      ],
      "metadata": {
        "id": "Tpydp15cHdPX"
      },
      "execution_count": null,
      "outputs": []
    },
    {
      "cell_type": "code",
      "source": [
        "print(estoque)"
      ],
      "metadata": {
        "id": "B1aePpjTHvy6"
      },
      "execution_count": null,
      "outputs": []
    },
    {
      "cell_type": "code",
      "source": [
        "estoque={ \"tomate\": [ 1000, 2.30],\n",
        "\"alface\": [ 500, 0.45],\n",
        "\"batata\": [ 2001, 1.20],\n",
        "\"feijão\": [ 100, 1.50] }\n",
        "venda = [ [\"tomate\", 5], [\"batata\", 10], [\"alface\",5] ]\n",
        "total = 0\n",
        "print(\"Vendas:\\n\")\n",
        "for operação in venda:\n",
        "  produto, quantidade = operação\n",
        "  preço = estoque[produto][1]\n",
        "  custo = preço * quantidade\n",
        "  print(\"%12s: %3d x %6.2f = %6.2f\" %(produto, quantidade, preço, custo))\n",
        "  estoque[produto][0] -= quantidade\n",
        "  total+=custo\n",
        "print(\" Custo total: %21.2f\\n\" % total)\n",
        "print(\"Estoque:\\n\")\n",
        "for chave, dados in estoque.items():\n",
        "  print(\"Descrição: \", chave)\n",
        "  print(\"Quantidade: \", dados[0])\n",
        "  print(\"Preço: %6.2f\\n\" % dados[1])"
      ],
      "metadata": {
        "id": "_xpUCxqAH_pE"
      },
      "execution_count": null,
      "outputs": []
    },
    {
      "cell_type": "markdown",
      "source": [
        "1. Altere o programa anterior de forma a solicitar ao usuário o produto e a quantidade vendida. Verifique se o nome do produto digitado existe no dicionário, e só então efetue a baixa em estoque."
      ],
      "metadata": {
        "id": "drIE9U5bIPRP"
      }
    },
    {
      "cell_type": "code",
      "source": [],
      "metadata": {
        "id": "mJ7YhW9uIjzW"
      },
      "execution_count": null,
      "outputs": []
    }
  ]
}