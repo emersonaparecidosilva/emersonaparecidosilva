{
  "nbformat": 4,
  "nbformat_minor": 0,
  "metadata": {
    "colab": {
      "provenance": [],
      "include_colab_link": true
    },
    "kernelspec": {
      "name": "python3",
      "display_name": "Python 3"
    },
    "language_info": {
      "name": "python"
    }
  },
  "cells": [
    {
      "cell_type": "markdown",
      "metadata": {
        "id": "view-in-github",
        "colab_type": "text"
      },
      "source": [
        "<a href=\"https://colab.research.google.com/github/emersonaparecidosilva/emersonaparecidosilva/blob/main/T%C3%B3pico_01_Algoritmos.ipynb\" target=\"_parent\"><img src=\"https://colab.research.google.com/assets/colab-badge.svg\" alt=\"Open In Colab\"/></a>"
      ]
    },
    {
      "cell_type": "markdown",
      "source": [
        "1. Meu primeiro programa em Python: Escreva um programa que imprima na tela o texto \"Hello world\"."
      ],
      "metadata": {
        "id": "3fjzK50OxV-H"
      }
    },
    {
      "cell_type": "code",
      "execution_count": null,
      "metadata": {
        "id": "z1M7-Flxw7GA",
        "colab": {
          "base_uri": "https://localhost:8080/"
        },
        "outputId": "cf1d469c-4f5c-405d-b548-b4abdc7118ed"
      },
      "outputs": [
        {
          "output_type": "stream",
          "name": "stdout",
          "text": [
            "Hello world\n"
          ]
        }
      ],
      "source": [
        "print(\"Hello world\")"
      ]
    },
    {
      "cell_type": "markdown",
      "source": [
        "2. Minha primeira variável em Python. Escreva um programa que atribua o texto \"Hello world\" a uma variável e depois imprima o conteúdo desta variável."
      ],
      "metadata": {
        "id": "JIow4NdgyXRL"
      }
    },
    {
      "cell_type": "code",
      "source": [
        "primeiraVariavelExercicio = 'string'\n",
        "print(primeiraVariavelExercicio)"
      ],
      "metadata": {
        "id": "GQUat7eq0dSJ",
        "colab": {
          "base_uri": "https://localhost:8080/"
        },
        "outputId": "b900a19c-3d7d-4f97-9dd6-68c4469bda31"
      },
      "execution_count": null,
      "outputs": [
        {
          "output_type": "stream",
          "name": "stdout",
          "text": [
            "string\n"
          ]
        }
      ]
    },
    {
      "cell_type": "markdown",
      "source": [
        "3. Brincando de calcular. Faça a soma de 5 + 7"
      ],
      "metadata": {
        "id": "tBbL1Z-X68Yc"
      }
    },
    {
      "cell_type": "code",
      "source": [
        "soma = 5+7\n",
        "print(soma)"
      ],
      "metadata": {
        "id": "XV-sLozN7ERg",
        "colab": {
          "base_uri": "https://localhost:8080/"
        },
        "outputId": "f4e14001-4189-4145-dde2-2f99bb569e38"
      },
      "execution_count": null,
      "outputs": [
        {
          "output_type": "stream",
          "name": "stdout",
          "text": [
            "12\n"
          ]
        }
      ]
    },
    {
      "cell_type": "markdown",
      "source": [
        "4. Brincando de calcular: Atribua para as variáveis a, b e c os respectivos valores 4, 5, a + b"
      ],
      "metadata": {
        "id": "9SAwYnMB7VsQ"
      }
    },
    {
      "cell_type": "code",
      "source": [
        "a = 4\n",
        "b = 5\n",
        "c = a+b\n",
        "print(c)"
      ],
      "metadata": {
        "id": "EXNKexT77VLW",
        "colab": {
          "base_uri": "https://localhost:8080/"
        },
        "outputId": "f29f1160-3b0e-4d61-f9f9-85b6ec40e430"
      },
      "execution_count": null,
      "outputs": [
        {
          "output_type": "stream",
          "name": "stdout",
          "text": [
            "9\n"
          ]
        }
      ]
    },
    {
      "cell_type": "markdown",
      "source": [
        "5. Entrada de dados. Crie um programa que solicite ao usuário entrar\n",
        " com o seu nome."
      ],
      "metadata": {
        "id": "QFNv1tgX8F9d"
      }
    },
    {
      "cell_type": "code",
      "source": [
        "nome = input('Digite Seu Nome: ')\n",
        "nome"
      ],
      "metadata": {
        "id": "kDYZk7-k8Jq5",
        "colab": {
          "base_uri": "https://localhost:8080/",
          "height": 53
        },
        "outputId": "45a45c98-7429-477d-8a0d-4b5a1c645cb3"
      },
      "execution_count": null,
      "outputs": [
        {
          "name": "stdout",
          "output_type": "stream",
          "text": [
            "Digite Seu Nome: Emerson\n"
          ]
        },
        {
          "output_type": "execute_result",
          "data": {
            "text/plain": [
              "'Emerson'"
            ],
            "application/vnd.google.colaboratory.intrinsic+json": {
              "type": "string"
            }
          },
          "metadata": {},
          "execution_count": 8
        }
      ]
    },
    {
      "cell_type": "markdown",
      "source": [
        "6. Entrada de dados: Crie um programa que solicite ao usuário fornecer a sua altura."
      ],
      "metadata": {
        "id": "BmKRkN738LzT"
      }
    },
    {
      "cell_type": "code",
      "source": [
        "altura = input('Digite Sua Altura: ')\n",
        "altura"
      ],
      "metadata": {
        "id": "nHzRcfz_8LYg"
      },
      "execution_count": null,
      "outputs": []
    },
    {
      "cell_type": "markdown",
      "source": [
        "7. Trabalhando com texto. Crie as variáveis a, b e c e atribua a elas os respectivos valores: \"Vamos aprender a programar em\", \"Python\" e a + b\n"
      ],
      "metadata": {
        "id": "2jKF9fJo8QLV"
      }
    },
    {
      "cell_type": "code",
      "source": [
        "a = \"Vamos aprender a programar em\"\n",
        "b = \"Python\"\n",
        "c = a + b\n",
        "print(c)"
      ],
      "metadata": {
        "id": "fmUxEGDF87d7",
        "colab": {
          "base_uri": "https://localhost:8080/"
        },
        "outputId": "1b0aca2a-ed64-4b97-c08a-6d450a657949"
      },
      "execution_count": null,
      "outputs": [
        {
          "output_type": "stream",
          "name": "stdout",
          "text": [
            "Vamos aprender a programar emPython\n"
          ]
        }
      ]
    },
    {
      "cell_type": "markdown",
      "source": [
        "8. Qual o problema apresentado na saída do algoritmo acima?\n",
        "\n",
        "\n"
      ],
      "metadata": {
        "id": "N3ovopgIhLJ0"
      }
    },
    {
      "cell_type": "markdown",
      "source": [
        "Não há um espaço entre o A e o B"
      ],
      "metadata": {
        "id": "uFD76fs-k7kZ"
      }
    },
    {
      "cell_type": "markdown",
      "source": [
        "9. Escreva o algoritmo anterior separando as palavras “em”  e Python.\n"
      ],
      "metadata": {
        "id": "sIANdAWY88FH"
      }
    },
    {
      "cell_type": "code",
      "source": [
        "a = \"Vamos aprender a programar em \"\n",
        "b = \"Python\"\n",
        "c = a + b\n",
        "print(c)"
      ],
      "metadata": {
        "id": "DI_fo8nq9k-0",
        "colab": {
          "base_uri": "https://localhost:8080/"
        },
        "outputId": "e12ebda1-a313-4265-a91a-c86398607b41"
      },
      "execution_count": null,
      "outputs": [
        {
          "output_type": "stream",
          "name": "stdout",
          "text": [
            "Vamos aprender a programar em Python\n"
          ]
        }
      ]
    },
    {
      "cell_type": "markdown",
      "source": [
        "10. Escreva um algoritmos que solicite a entrada do seu nome e em seguida retorne o tamanho da string fornecida."
      ],
      "metadata": {
        "id": "ZNEmDIOiixf3"
      }
    },
    {
      "cell_type": "code",
      "source": [
        "nome = input('Digite Seu Nome: ')\n",
        "len(nome)"
      ],
      "metadata": {
        "id": "ptqbhFvPjPpa",
        "colab": {
          "base_uri": "https://localhost:8080/"
        },
        "outputId": "42e113fc-721e-48d9-f56d-1d3b75fe49be"
      },
      "execution_count": null,
      "outputs": [
        {
          "name": "stdout",
          "output_type": "stream",
          "text": [
            "Digite Seu Nome: Emerson\n"
          ]
        },
        {
          "output_type": "execute_result",
          "data": {
            "text/plain": [
              "7"
            ]
          },
          "metadata": {},
          "execution_count": 16
        }
      ]
    },
    {
      "cell_type": "markdown",
      "source": [
        "11. Escreva um algoritmos que solicite a entrada do seu nome e em seguida retorne o texto com a primeira letra em maiúscula. Dica: ao inserir o seu nome, digite tudo em minúsculo."
      ],
      "metadata": {
        "id": "AYVGGmw0juCp"
      }
    },
    {
      "cell_type": "code",
      "source": [
        "nome = input('Digite Seu Nome: ')\n",
        "print(nome.capitalize())"
      ],
      "metadata": {
        "id": "s9uz7KCxkISh",
        "colab": {
          "base_uri": "https://localhost:8080/"
        },
        "outputId": "98d6deaa-ae91-41da-92f4-11ba693bfd67"
      },
      "execution_count": 10,
      "outputs": [
        {
          "output_type": "stream",
          "name": "stdout",
          "text": [
            "Digite Seu Nome: emerson aparecido silva\n",
            "Emerson aparecido silva\n"
          ]
        }
      ]
    },
    {
      "cell_type": "markdown",
      "source": [
        "12. Na questão anterior, apenas a primeira letra do seu nome foi impressa em letra maiúscula. Fala um programa que capitalise todas as primeiras letras do seu nome."
      ],
      "metadata": {
        "id": "g33t9WZDlA8w"
      }
    },
    {
      "cell_type": "code",
      "source": [
        "nomeNovo = input('Digite Seu Nome: ')\n",
        "print(nomeNovo.title())"
      ],
      "metadata": {
        "id": "fMcq05JslWn6",
        "colab": {
          "base_uri": "https://localhost:8080/"
        },
        "outputId": "8f20e412-5da1-4bf8-a2d6-a101a8a40dc6"
      },
      "execution_count": 9,
      "outputs": [
        {
          "output_type": "stream",
          "name": "stdout",
          "text": [
            "Digite Seu Nome: emerson aparecido silva\n",
            "Emerson Aparecido Silva\n"
          ]
        }
      ]
    },
    {
      "cell_type": "markdown",
      "source": [
        "13. Escreva um algoritmos que solicite a entrada de um texto e em seguida retorne o texto com todas as letras em minúscula. Dica: ao inserir o texto, digite algumas letras em maiúsculo."
      ],
      "metadata": {
        "id": "KMbmFADRlgb9"
      }
    },
    {
      "cell_type": "code",
      "source": [
        "texto = input('Entre com um texto: ')\n",
        "print(texto.lower())"
      ],
      "metadata": {
        "id": "A1qkkyaUjrlZ",
        "colab": {
          "base_uri": "https://localhost:8080/"
        },
        "outputId": "5d02cc53-6fbe-446c-91ac-a3dbb34690b7"
      },
      "execution_count": 11,
      "outputs": [
        {
          "output_type": "stream",
          "name": "stdout",
          "text": [
            "Entre com um texto: EMERSON\n",
            "emerson\n"
          ]
        }
      ]
    },
    {
      "cell_type": "markdown",
      "source": [
        "14. Escreva um algoritmos que solicite a entrada de um texto e em seguida retorne o texto com todas as letras em maiúscula. Dica: ao inserir o texto, digite algumas letras em minúsculo."
      ],
      "metadata": {
        "id": "xI_MZBjJmmZS"
      }
    },
    {
      "cell_type": "code",
      "source": [
        "texto = input('Entre com um texto: ')\n",
        "print(texto.upper())"
      ],
      "metadata": {
        "id": "XahZ-G72mo_z",
        "colab": {
          "base_uri": "https://localhost:8080/"
        },
        "outputId": "7fc834a9-e39e-4f4d-ff56-a2acad6e7611"
      },
      "execution_count": 12,
      "outputs": [
        {
          "output_type": "stream",
          "name": "stdout",
          "text": [
            "Entre com um texto: emerson\n",
            "EMERSON\n"
          ]
        }
      ]
    },
    {
      "cell_type": "markdown",
      "source": [
        "15. Escreva um algoritmos que solicite a entrada de um texto e em seguida teste se todo o texto foi inserido com letras maiúsculas."
      ],
      "metadata": {
        "id": "HRQeIiZxqKn7"
      }
    },
    {
      "cell_type": "code",
      "source": [
        "texto = input('Entre com um texto: ')\n",
        "texto.isupper()\n"
      ],
      "metadata": {
        "id": "gmS5MVmsqiW2",
        "colab": {
          "base_uri": "https://localhost:8080/"
        },
        "outputId": "b14948dc-8c5e-4e0f-a04e-c7f5de0b3fe3"
      },
      "execution_count": 13,
      "outputs": [
        {
          "name": "stdout",
          "output_type": "stream",
          "text": [
            "Entre com um texto: Never\n"
          ]
        },
        {
          "output_type": "execute_result",
          "data": {
            "text/plain": [
              "False"
            ]
          },
          "metadata": {},
          "execution_count": 13
        }
      ]
    },
    {
      "cell_type": "markdown",
      "source": [
        "16. Escreva um algoritmo que solicite a entrada de um texto e em seguida teste se todo o texto foi inserido com letras minúsculas."
      ],
      "metadata": {
        "id": "FMtAv7pAixOg"
      }
    },
    {
      "cell_type": "code",
      "source": [
        "texto = input('Entre com um texto: ')\n",
        "texto.islower()\n"
      ],
      "metadata": {
        "id": "Einmxlkyq1Ga",
        "colab": {
          "base_uri": "https://localhost:8080/"
        },
        "outputId": "9faf537b-5afe-44d0-99f8-85a60f33ac1b"
      },
      "execution_count": null,
      "outputs": [
        {
          "name": "stdout",
          "output_type": "stream",
          "text": [
            "Entre com um texto: ddddddddddd\n"
          ]
        },
        {
          "output_type": "execute_result",
          "data": {
            "text/plain": [
              "True"
            ]
          },
          "metadata": {},
          "execution_count": 31
        }
      ]
    },
    {
      "cell_type": "markdown",
      "source": [
        "16. Escreva um algoritmo que solicite a entrada de um texto e em seguida conte quantas vezes a sequência \"na\" aparece no texto."
      ],
      "metadata": {
        "id": "hiPAQ3nCreIP"
      }
    },
    {
      "cell_type": "code",
      "source": [
        "texto = input('Entre com um texto: ')\n",
        "texto.count('na')\n"
      ],
      "metadata": {
        "id": "1_MUQHR7q_Vb",
        "colab": {
          "base_uri": "https://localhost:8080/"
        },
        "outputId": "921e8a50-c270-4c2e-ebff-a6bacb8b00ff"
      },
      "execution_count": null,
      "outputs": [
        {
          "name": "stdout",
          "output_type": "stream",
          "text": [
            "Entre com um texto: coluna de fogo no navio do natanael\n"
          ]
        },
        {
          "output_type": "execute_result",
          "data": {
            "text/plain": [
              "4"
            ]
          },
          "metadata": {},
          "execution_count": 33
        }
      ]
    },
    {
      "cell_type": "markdown",
      "source": [
        "17. Escreva um algoritmo que solicite a entrada de um texto e em seguida verifique se a string inicia com a sequancia de caracteres \"Bom dia!\"."
      ],
      "metadata": {
        "id": "rCLGQNjbsBox"
      }
    },
    {
      "cell_type": "code",
      "source": [
        "texto = input('Entre com um texto: ')\n",
        "texto.startswith('Bom')\n"
      ],
      "metadata": {
        "id": "C5bUIWSWr_0o",
        "colab": {
          "base_uri": "https://localhost:8080/"
        },
        "outputId": "de3a0d95-7c11-4bff-a814-a7d2a898e559"
      },
      "execution_count": 15,
      "outputs": [
        {
          "name": "stdout",
          "output_type": "stream",
          "text": [
            "Entre com um texto: Bom dia\n"
          ]
        },
        {
          "output_type": "execute_result",
          "data": {
            "text/plain": [
              "True"
            ]
          },
          "metadata": {},
          "execution_count": 15
        }
      ]
    },
    {
      "cell_type": "markdown",
      "source": [
        "17. Escreva um algoritmo que solicite a entrada de um texto e em seguida verifique se a string finalisa com um ponto \".\"."
      ],
      "metadata": {
        "id": "el8t-OJXsCUy"
      }
    },
    {
      "cell_type": "code",
      "source": [
        "texto = input('Entre com um texto: ')\n",
        "texto.endswith('.')\n"
      ],
      "metadata": {
        "id": "zDnaXOYDr_M_",
        "colab": {
          "base_uri": "https://localhost:8080/"
        },
        "outputId": "49f8bc3f-a905-4853-f583-7d85509a7ce8"
      },
      "execution_count": null,
      "outputs": [
        {
          "name": "stdout",
          "output_type": "stream",
          "text": [
            "Entre com um texto: pontofinal.\n"
          ]
        },
        {
          "output_type": "execute_result",
          "data": {
            "text/plain": [
              "True"
            ]
          },
          "metadata": {},
          "execution_count": 35
        }
      ]
    },
    {
      "cell_type": "markdown",
      "source": [
        "18. Escreva um algoritmo que solicite a entrada de um texto e em seguida verifique se penas letras e números foram inseridos. Dica: experimente inserir caracteres especiais, acentos e espaços em branco."
      ],
      "metadata": {
        "id": "0LPznHSgtSzU"
      }
    },
    {
      "cell_type": "code",
      "source": [
        "texto = input('Entre com um texto: ')\n",
        "texto.isalnum()\n"
      ],
      "metadata": {
        "id": "vl5aBnlqtgSw",
        "colab": {
          "base_uri": "https://localhost:8080/"
        },
        "outputId": "ae1313d3-fef8-4411-99b9-85e59a71e23d"
      },
      "execution_count": null,
      "outputs": [
        {
          "name": "stdout",
          "output_type": "stream",
          "text": [
            "Entre com um texto: Emerson é um bom programador\n"
          ]
        },
        {
          "output_type": "execute_result",
          "data": {
            "text/plain": [
              "False"
            ]
          },
          "metadata": {},
          "execution_count": 36
        }
      ]
    },
    {
      "cell_type": "markdown",
      "source": [
        "\n",
        "19. Escreva um algoritmo que solicite a entrada de um texto e em seguida verifique se penas letras foram inseridos. Dica: experimente inserir caracteres especiais, acentos e espaços em branco."
      ],
      "metadata": {
        "id": "C3IDjcBHufkd"
      }
    },
    {
      "cell_type": "code",
      "source": [
        "texto = input('Entre com um texto: ')\n",
        "texto.isalpha()\n"
      ],
      "metadata": {
        "id": "YpztQpSguvAW",
        "colab": {
          "base_uri": "https://localhost:8080/"
        },
        "outputId": "69b5f1dc-7663-461b-d852-b80ffb37c3c2"
      },
      "execution_count": null,
      "outputs": [
        {
          "name": "stdout",
          "output_type": "stream",
          "text": [
            "Entre com um texto: era pra ser só texto\n"
          ]
        },
        {
          "output_type": "execute_result",
          "data": {
            "text/plain": [
              "False"
            ]
          },
          "metadata": {},
          "execution_count": 37
        }
      ]
    },
    {
      "cell_type": "markdown",
      "source": [
        "20. Escreva um algoritmo que solicite a entrada de um texto e em seguida converta todas as letras em maiúsculas e minúsculas e vice-versa."
      ],
      "metadata": {
        "id": "hb2lck_fvGJB"
      }
    },
    {
      "cell_type": "code",
      "source": [
        "texto = input('Entre com um texto: ')\n",
        "texto.swapcase()\n"
      ],
      "metadata": {
        "id": "qd1Yste7vA8I",
        "colab": {
          "base_uri": "https://localhost:8080/",
          "height": 53
        },
        "outputId": "264322a4-6834-4abb-d029-2673390c9bbd"
      },
      "execution_count": null,
      "outputs": [
        {
          "name": "stdout",
          "output_type": "stream",
          "text": [
            "Entre com um texto: maoeH\n"
          ]
        },
        {
          "output_type": "execute_result",
          "data": {
            "text/plain": [
              "'MAOEh'"
            ],
            "application/vnd.google.colaboratory.intrinsic+json": {
              "type": "string"
            }
          },
          "metadata": {},
          "execution_count": 38
        }
      ]
    },
    {
      "cell_type": "markdown",
      "source": [
        "21. Escreva um algoritmo que solicite a entrada de um texto e em seguida converta a string em uma lista, usando aos espaços em branco como referência."
      ],
      "metadata": {
        "id": "uZM0wIvzvt1s"
      }
    },
    {
      "cell_type": "code",
      "source": [
        "texto = input('Entre com um texto: ')\n",
        "texto.split()\n"
      ],
      "metadata": {
        "id": "8I5O1jJqwHgR",
        "colab": {
          "base_uri": "https://localhost:8080/"
        },
        "outputId": "6941a5fe-bdba-43ef-9fb5-873d867fe52d"
      },
      "execution_count": null,
      "outputs": [
        {
          "name": "stdout",
          "output_type": "stream",
          "text": [
            "Entre com um texto: Algodão, alface e tomate são vendidos na quitanda\n"
          ]
        },
        {
          "output_type": "execute_result",
          "data": {
            "text/plain": [
              "['Algodão,', 'alface', 'e', 'tomate', 'são', 'vendidos', 'na', 'quitanda']"
            ]
          },
          "metadata": {},
          "execution_count": 39
        }
      ]
    },
    {
      "cell_type": "markdown",
      "source": [
        "22. Escreva um algoritmo que solicite a entrada de um texto e em seguida converta a string em uma lista, usando a vírgula como referência."
      ],
      "metadata": {
        "id": "HceMdsr3wegl"
      }
    },
    {
      "cell_type": "code",
      "source": [
        "texto = input('Entre com um texto: ')\n",
        "texto.split(',')"
      ],
      "metadata": {
        "id": "pkIcH6-MwaXG",
        "colab": {
          "base_uri": "https://localhost:8080/"
        },
        "outputId": "e5401b4d-46a9-4797-e0a8-cc1ba318372b"
      },
      "execution_count": null,
      "outputs": [
        {
          "name": "stdout",
          "output_type": "stream",
          "text": [
            "Entre com um texto: Chapeus, roupas usadas\n"
          ]
        },
        {
          "output_type": "execute_result",
          "data": {
            "text/plain": [
              "['Chapeus', ' roupas usadas']"
            ]
          },
          "metadata": {},
          "execution_count": 48
        }
      ]
    },
    {
      "cell_type": "markdown",
      "source": [
        "23. Escreva um programa que solicite uma frase ao usuário e escreva a frase toda em maiúscula e sem espaços em branco.\n"
      ],
      "metadata": {
        "id": "1Qmn8Ejv9KTp"
      }
    },
    {
      "cell_type": "code",
      "source": [
        "texto = input('Entre com uma frase: ')\n",
        "textoEditadoMaiusculo = texto.upper()\n",
        "textoEditadoMaiusculo.strip()"
      ],
      "metadata": {
        "id": "SV0hCPAl9Jt0",
        "colab": {
          "base_uri": "https://localhost:8080/",
          "height": 53
        },
        "outputId": "6262ee3f-d352-4572-826f-2f727180f00b"
      },
      "execution_count": null,
      "outputs": [
        {
          "name": "stdout",
          "output_type": "stream",
          "text": [
            "Entre com uma frase:  Python \n"
          ]
        },
        {
          "output_type": "execute_result",
          "data": {
            "text/plain": [
              "'PYTHON'"
            ],
            "application/vnd.google.colaboratory.intrinsic+json": {
              "type": "string"
            }
          },
          "metadata": {},
          "execution_count": 47
        }
      ]
    },
    {
      "cell_type": "markdown",
      "source": [],
      "metadata": {
        "id": "FWoR2tTn9lo4"
      }
    }
  ]
}