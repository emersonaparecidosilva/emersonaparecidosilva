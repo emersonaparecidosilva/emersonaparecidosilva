{
  "nbformat": 4,
  "nbformat_minor": 0,
  "metadata": {
    "colab": {
      "provenance": [],
      "toc_visible": true,
      "include_colab_link": true
    },
    "kernelspec": {
      "name": "python3",
      "display_name": "Python 3"
    },
    "language_info": {
      "name": "python"
    }
  },
  "cells": [
    {
      "cell_type": "markdown",
      "metadata": {
        "id": "view-in-github",
        "colab_type": "text"
      },
      "source": [
        "<a href=\"https://colab.research.google.com/github/emersonaparecidosilva/emersonaparecidosilva/blob/main/T%C3%B3pico_06_Algoritmos.ipynb\" target=\"_parent\"><img src=\"https://colab.research.google.com/assets/colab-badge.svg\" alt=\"Open In Colab\"/></a>"
      ]
    },
    {
      "cell_type": "markdown",
      "source": [
        "# **FUNÇÕES**"
      ],
      "metadata": {
        "id": "6KThCLBYwm78"
      }
    },
    {
      "cell_type": "markdown",
      "source": [
        "1. Crie uma função que retorne verdadeiro ou falso, dependendo se o número é par ou ímpar.\n"
      ],
      "metadata": {
        "id": "ZPq6dOPYwwsG"
      }
    },
    {
      "cell_type": "code",
      "execution_count": 7,
      "metadata": {
        "id": "PzQ4Bl0usK0r",
        "colab": {
          "base_uri": "https://localhost:8080/"
        },
        "outputId": "6b9057c6-3647-4979-cc1a-bbdf5b7665f2"
      },
      "outputs": [
        {
          "output_type": "stream",
          "name": "stdout",
          "text": [
            "True\n"
          ]
        }
      ],
      "source": [
        "def isEven(x):\n",
        "  if x % 2 == 0:\n",
        "    return True\n",
        "  else:\n",
        "    return False\n",
        "\n",
        "y = isEven(4)\n",
        "print(y)"
      ]
    },
    {
      "cell_type": "markdown",
      "source": [
        "2. Imagine agora que precisamos definir uma função para retornar a palavra par ou ímpar. Crie uma função que reutilize a função do exercício 1 para retornar se é par ou impar."
      ],
      "metadata": {
        "id": "NYqrUhdfyUrk"
      }
    },
    {
      "cell_type": "code",
      "source": [
        "def even_or_odd(y):\n",
        "  z = isEven(y)\n",
        "  if z == True:\n",
        "    return \"Par\"\n",
        "  else:\n",
        "    return \"Ímpar\"\n",
        "  print(z)\n",
        "even_or_odd(13)"
      ],
      "metadata": {
        "id": "xCwxovRByqq4",
        "colab": {
          "base_uri": "https://localhost:8080/",
          "height": 35
        },
        "outputId": "511a3605-726d-4a2b-e379-2a5e88179c9f"
      },
      "execution_count": 14,
      "outputs": [
        {
          "output_type": "execute_result",
          "data": {
            "text/plain": [
              "'Ímpar'"
            ],
            "application/vnd.google.colaboratory.intrinsic+json": {
              "type": "string"
            }
          },
          "metadata": {},
          "execution_count": 14
        }
      ]
    },
    {
      "cell_type": "markdown",
      "source": [
        "3. Escreva uma função que retorne o maior entre dois números."
      ],
      "metadata": {
        "id": "9MDN6CiY2j2i"
      }
    },
    {
      "cell_type": "code",
      "source": [
        "def max(x,y):\n",
        "  if x >= y:\n",
        "    return x\n",
        "  else:\n",
        "    return y\n",
        "print(max(100,55))"
      ],
      "metadata": {
        "id": "w87pSaq13E5D",
        "colab": {
          "base_uri": "https://localhost:8080/"
        },
        "outputId": "140a87b0-2cb5-4545-d730-5aca0653b6f5"
      },
      "execution_count": 18,
      "outputs": [
        {
          "output_type": "stream",
          "name": "stdout",
          "text": [
            "100\n"
          ]
        }
      ]
    },
    {
      "cell_type": "markdown",
      "source": [
        "4. Escreva uma função que receba dois números e retorne True se o primeiro número for múltiplo do segundo."
      ],
      "metadata": {
        "id": "Tj23G8C64M6V"
      }
    },
    {
      "cell_type": "code",
      "source": [
        "a = int(input(\"Digite o Valor 1: \"))\n",
        "b = int(input(\"Digite o Valor 2: \"))\n",
        "\n",
        "def isMultiply(a,b):\n",
        "  if a % b == 0:\n",
        "    return True\n",
        "  else:\n",
        "    return False\n",
        "print(isMultiply(a,b))"
      ],
      "metadata": {
        "id": "q-WLPBCp4cyQ",
        "colab": {
          "base_uri": "https://localhost:8080/"
        },
        "outputId": "6f3088f1-21b9-4dd7-fc65-37c428c70638"
      },
      "execution_count": 33,
      "outputs": [
        {
          "output_type": "stream",
          "name": "stdout",
          "text": [
            "Digite o Valor 1: 8\n",
            "Digite o Valor 2: 2\n",
            "True\n"
          ]
        }
      ]
    },
    {
      "cell_type": "markdown",
      "source": [
        "5. Crie uma função que some os valores de uma lista."
      ],
      "metadata": {
        "id": "wbwvdyTE4xm8"
      }
    },
    {
      "cell_type": "code",
      "source": [
        "L = [10,20,30,40,50]\n",
        "\n",
        "def sumList(L):\n",
        "  x = 0\n",
        "  s = 0\n",
        "  while x < len(L):\n",
        "    s = s + L[x]\n",
        "    x += 1\n",
        "  return s\n",
        "print(sumList(L))\n",
        "\n"
      ],
      "metadata": {
        "id": "Rhm9GgXa83e7",
        "colab": {
          "base_uri": "https://localhost:8080/"
        },
        "outputId": "67bfd09a-b8e5-4811-a333-f0b6a9830ba1"
      },
      "execution_count": 36,
      "outputs": [
        {
          "output_type": "stream",
          "name": "stdout",
          "text": [
            "150\n"
          ]
        }
      ]
    },
    {
      "cell_type": "code",
      "source": [
        "L = [10,20,30,40,50]\n",
        "\n",
        "def sumList(L):\n",
        "  x = 0\n",
        "  s = 0\n",
        "  while x < len(L):\n",
        "    s = s + L[x]\n",
        "    x += 1\n",
        "  return s\n",
        "print(sumList(L))\n"
      ],
      "metadata": {
        "colab": {
          "base_uri": "https://localhost:8080/"
        },
        "id": "o3w-bKjFfXmn",
        "outputId": "7ac03cbc-83fd-4390-aa60-e46639e32336"
      },
      "execution_count": 38,
      "outputs": [
        {
          "output_type": "stream",
          "name": "stdout",
          "text": [
            "150\n"
          ]
        }
      ]
    },
    {
      "cell_type": "markdown",
      "source": [
        "6. Crie uma função para calcular o fatorial de qualquer número."
      ],
      "metadata": {
        "id": "dwFceYxZ_20Q"
      }
    },
    {
      "cell_type": "code",
      "source": [],
      "metadata": {
        "id": "eFOlQ_ks_-ik"
      },
      "execution_count": null,
      "outputs": []
    },
    {
      "cell_type": "markdown",
      "source": [
        "7. Reescrevaa função fatorial usando o laço **for**"
      ],
      "metadata": {
        "id": "cGcGa_AtCx3x"
      }
    },
    {
      "cell_type": "code",
      "source": [],
      "metadata": {
        "id": "NwGEuGJnC5ol"
      },
      "execution_count": null,
      "outputs": []
    },
    {
      "cell_type": "markdown",
      "source": [
        "8. Calcule uma função que calcule o IMC (Índice de massa corporal)."
      ],
      "metadata": {
        "id": "VJnYt5_qG7Mo"
      }
    },
    {
      "cell_type": "code",
      "source": [],
      "metadata": {
        "id": "tPttn8EpHDlp"
      },
      "execution_count": null,
      "outputs": []
    },
    {
      "cell_type": "markdown",
      "source": [
        "9. Crie uma função que encontre o maior valor em uma lista."
      ],
      "metadata": {
        "id": "oVRh-3dHIMRW"
      }
    },
    {
      "cell_type": "code",
      "source": [],
      "metadata": {
        "id": "Qhr4IT6mJ5sH"
      },
      "execution_count": null,
      "outputs": []
    },
    {
      "cell_type": "markdown",
      "source": [
        "11. Imprima o maior valor de uma lista usando a função **max**, nativa do python."
      ],
      "metadata": {
        "id": "hUuje6u9Ku6k"
      }
    },
    {
      "cell_type": "code",
      "source": [],
      "metadata": {
        "id": "A9ALCt4-Kt_i"
      },
      "execution_count": null,
      "outputs": []
    }
  ]
}