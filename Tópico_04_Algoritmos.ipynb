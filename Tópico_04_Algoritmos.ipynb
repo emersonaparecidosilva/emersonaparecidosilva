{
  "nbformat": 4,
  "nbformat_minor": 0,
  "metadata": {
    "colab": {
      "provenance": [],
      "toc_visible": true,
      "include_colab_link": true
    },
    "kernelspec": {
      "name": "python3",
      "display_name": "Python 3"
    },
    "language_info": {
      "name": "python"
    }
  },
  "cells": [
    {
      "cell_type": "markdown",
      "metadata": {
        "id": "view-in-github",
        "colab_type": "text"
      },
      "source": [
        "<a href=\"https://colab.research.google.com/github/emersonaparecidosilva/emersonaparecidosilva/blob/main/T%C3%B3pico_04_Algoritmos.ipynb\" target=\"_parent\"><img src=\"https://colab.research.google.com/assets/colab-badge.svg\" alt=\"Open In Colab\"/></a>"
      ]
    },
    {
      "cell_type": "markdown",
      "source": [
        "**LOOP**"
      ],
      "metadata": {
        "id": "ut-yblVKn_jE"
      }
    },
    {
      "cell_type": "markdown",
      "source": [
        "1. Modifique o código abaixo para imprimir números de 0 a 9"
      ],
      "metadata": {
        "id": "y36EFe2Zng-h"
      }
    },
    {
      "cell_type": "code",
      "execution_count": null,
      "metadata": {
        "colab": {
          "base_uri": "https://localhost:8080/"
        },
        "id": "cEVfUHSvnVB_",
        "outputId": "24934653-1670-4210-fc9c-a4fcf1f6eec9"
      },
      "outputs": [
        {
          "output_type": "stream",
          "name": "stdout",
          "text": [
            "0\n",
            "1\n",
            "2\n",
            "3\n",
            "4\n",
            "5\n",
            "6\n",
            "7\n",
            "8\n",
            "9\n"
          ]
        }
      ],
      "source": [
        "x=0\n",
        "while x<10:\n",
        "  print(x)\n",
        "  x = x + 1"
      ]
    },
    {
      "cell_type": "code",
      "source": [],
      "metadata": {
        "id": "doB4RVLtooMj"
      },
      "execution_count": null,
      "outputs": []
    },
    {
      "cell_type": "markdown",
      "source": [
        "2. Modifique o programa do exercício 1 para exibir os números de 50 a 100."
      ],
      "metadata": {
        "id": "t7nhPQfJo5n0"
      }
    },
    {
      "cell_type": "code",
      "source": [
        "x=50\n",
        "while x<101:\n",
        "  print(x)\n",
        "  x = x + 1"
      ],
      "metadata": {
        "id": "9SlyIIfGpP0v",
        "colab": {
          "base_uri": "https://localhost:8080/"
        },
        "outputId": "568567b8-9d69-4a5a-e5f2-2aaec391268c"
      },
      "execution_count": null,
      "outputs": [
        {
          "output_type": "stream",
          "name": "stdout",
          "text": [
            "50\n",
            "51\n",
            "52\n",
            "53\n",
            "54\n",
            "55\n",
            "56\n",
            "57\n",
            "58\n",
            "59\n",
            "60\n",
            "61\n",
            "62\n",
            "63\n",
            "64\n",
            "65\n",
            "66\n",
            "67\n",
            "68\n",
            "69\n",
            "70\n",
            "71\n",
            "72\n",
            "73\n",
            "74\n",
            "75\n",
            "76\n",
            "77\n",
            "78\n",
            "79\n",
            "80\n",
            "81\n",
            "82\n",
            "83\n",
            "84\n",
            "85\n",
            "86\n",
            "87\n",
            "88\n",
            "89\n",
            "90\n",
            "91\n",
            "92\n",
            "93\n",
            "94\n",
            "95\n",
            "96\n",
            "97\n",
            "98\n",
            "99\n",
            "100\n"
          ]
        }
      ]
    },
    {
      "cell_type": "markdown",
      "source": [
        "3. Faça um programa para escrever a contagem regressiva do lançamento\n",
        "de um foguete. O programa deve imprimir 10, 9, 8, ..., 1, 0 e Fogo! na tela.\n"
      ],
      "metadata": {
        "id": "pKa5K2hvpYqH"
      }
    },
    {
      "cell_type": "code",
      "source": [
        "x=10\n",
        "while x>=0:\n",
        "  print(x)\n",
        "  x = x - 1\n",
        "print('Fogo!!!')"
      ],
      "metadata": {
        "id": "KtKxuo2uplsJ",
        "colab": {
          "base_uri": "https://localhost:8080/"
        },
        "outputId": "c9ff35fd-d681-43fe-ce7c-0210cf443429"
      },
      "execution_count": null,
      "outputs": [
        {
          "output_type": "stream",
          "name": "stdout",
          "text": [
            "10\n",
            "9\n",
            "8\n",
            "7\n",
            "6\n",
            "5\n",
            "4\n",
            "3\n",
            "2\n",
            "1\n",
            "0\n",
            "Fogo!!!\n"
          ]
        }
      ]
    },
    {
      "cell_type": "markdown",
      "source": [
        "# **Contadores**"
      ],
      "metadata": {
        "id": "aBjIEJpzsRea"
      }
    },
    {
      "cell_type": "markdown",
      "source": [
        "1. Imprimir os números pares de 0 até um valor informado pelo usuário."
      ],
      "metadata": {
        "id": "Lz0vDM0Zr6di"
      }
    },
    {
      "cell_type": "code",
      "source": [
        "numeroSugerido = int(input('Digite um número inteiro: '))\n",
        "x=0\n",
        "while x<=numeroSugerido:\n",
        "  print(x)\n",
        "  x = x + 2\n"
      ],
      "metadata": {
        "id": "ONZApWxDslGw",
        "colab": {
          "base_uri": "https://localhost:8080/"
        },
        "outputId": "f7c5221a-b669-4d45-e3fa-3ad207f2208f"
      },
      "execution_count": null,
      "outputs": [
        {
          "output_type": "stream",
          "name": "stdout",
          "text": [
            "Digite um número inteiro: 19\n",
            "0\n",
            "2\n",
            "4\n",
            "6\n",
            "8\n",
            "10\n",
            "12\n",
            "14\n",
            "16\n",
            "18\n"
          ]
        }
      ]
    },
    {
      "cell_type": "markdown",
      "source": [
        "2. Modifique o programa anterior para imprimir de 1 até o número\n",
        "digitado pelo usuário, mas, dessa vez, apenas os números ímpares."
      ],
      "metadata": {
        "id": "Z_1QABpTs3ah"
      }
    },
    {
      "cell_type": "code",
      "source": [
        "numeroSugerido = int(input('Digite um número inteiro: '))\n",
        "x=1\n",
        "while x<=numeroSugerido:\n",
        "  print(x)\n",
        "  x = x + 2\n"
      ],
      "metadata": {
        "id": "y4ZCmsgitllv",
        "colab": {
          "base_uri": "https://localhost:8080/"
        },
        "outputId": "5329371a-1ded-4207-a36d-984f0834adc1"
      },
      "execution_count": null,
      "outputs": [
        {
          "output_type": "stream",
          "name": "stdout",
          "text": [
            "Digite um número inteiro: 15\n",
            "1\n",
            "3\n",
            "5\n",
            "7\n",
            "9\n",
            "11\n",
            "13\n",
            "15\n"
          ]
        }
      ]
    },
    {
      "cell_type": "markdown",
      "source": [
        "3. Escreva um programa para imprimir os 10 primeiros múltiplos de 3."
      ],
      "metadata": {
        "id": "OMC--iHQt8xI"
      }
    },
    {
      "cell_type": "code",
      "source": [
        "print('Este são os 10 primeiros múltiplos de 3')\n",
        "x=3\n",
        "limite = x * 10\n",
        "while x<=limite:\n",
        "  print(x)\n",
        "  x = x + 3\n",
        "\n",
        "numeroSugerido = int(input('Gostou, Digite um número inteiro a ser multiplicado: '))\n",
        "multiplicacaoSugerida = int(input('Digite por quantas vezes quer multiplicar o número anterior: '))\n",
        "y = numeroSugerido\n",
        "limiteSugerido = y * multiplicacaoSugerida\n",
        "while y<=limiteSugerido:\n",
        "  print(y)\n",
        "  y = y + numeroSugerido\n"
      ],
      "metadata": {
        "id": "uEpi8l1RuUz8",
        "colab": {
          "base_uri": "https://localhost:8080/"
        },
        "outputId": "cfeae846-22f2-4141-d113-807b42dfd34c"
      },
      "execution_count": null,
      "outputs": [
        {
          "output_type": "stream",
          "name": "stdout",
          "text": [
            "Este são os 10 primeiros múltiplos de 3\n",
            "3\n",
            "6\n",
            "9\n",
            "12\n",
            "15\n",
            "18\n",
            "21\n",
            "24\n",
            "27\n",
            "30\n",
            "Gostou, Digite um número inteiro a ser multiplicado: 8\n",
            "Digite por quantas vezes quer multiplicar o número anterior: 5\n",
            "8\n",
            "16\n",
            "24\n",
            "32\n",
            "40\n"
          ]
        }
      ]
    },
    {
      "cell_type": "markdown",
      "source": [
        "4. Escreva um programa para calcular a tabuada de um número fornecido pelo usuário"
      ],
      "metadata": {
        "id": "mgQK7hrRvfSp"
      }
    },
    {
      "cell_type": "code",
      "source": [
        "print('Bem vindo(a) a minha Tabuada')\n",
        "numeroSugerido = int(input('Digite um número inteiro: '))\n",
        "x=1\n",
        "while x<=10:\n",
        "  print(x*numeroSugerido)\n",
        "  x = x + 1"
      ],
      "metadata": {
        "id": "g29fOueg1U1s",
        "colab": {
          "base_uri": "https://localhost:8080/"
        },
        "outputId": "5d1027d4-f660-4bc8-dbb3-34c064a3e4c1"
      },
      "execution_count": null,
      "outputs": [
        {
          "output_type": "stream",
          "name": "stdout",
          "text": [
            "Bem vindo(a) a minha Tabuada\n",
            "Digite um número inteiro: 4\n",
            "4\n",
            "8\n",
            "12\n",
            "16\n",
            "20\n",
            "24\n",
            "28\n",
            "32\n",
            "36\n",
            "40\n"
          ]
        }
      ]
    },
    {
      "cell_type": "markdown",
      "source": [
        "5. Altere o programa anterior para exibir os resultados no mesmo formato\n",
        "de uma tabuada: 2 x 1 = 2, 2 x 2 = 4, ..."
      ],
      "metadata": {
        "id": "6DLuVMZQ1fvR"
      }
    },
    {
      "cell_type": "code",
      "source": [
        "print('Bem vindo(a) a minha Tabuada')\n",
        "numeroSugerido = int(input('Digite um número inteiro: '))\n",
        "x=1\n",
        "while x<=10:\n",
        "  print( '%d * %d = ' % (x,numeroSugerido),(x*numeroSugerido))\n",
        "  x = x + 1\n"
      ],
      "metadata": {
        "id": "12WXzdIBvvqM",
        "colab": {
          "base_uri": "https://localhost:8080/"
        },
        "outputId": "638f5ace-857f-4c46-e3b4-1375e5511da0"
      },
      "execution_count": null,
      "outputs": [
        {
          "output_type": "stream",
          "name": "stdout",
          "text": [
            "Bem vindo(a) a minha Tabuada\n",
            "Digite um número inteiro: 4\n",
            "1 * 4 =  4\n",
            "2 * 4 =  8\n",
            "3 * 4 =  12\n",
            "4 * 4 =  16\n",
            "5 * 4 =  20\n",
            "6 * 4 =  24\n",
            "7 * 4 =  28\n",
            "8 * 4 =  32\n",
            "9 * 4 =  36\n",
            "10 * 4 =  40\n"
          ]
        }
      ]
    },
    {
      "cell_type": "markdown",
      "source": [
        "6. Modifique o programa anterior de forma que o usuário também digite o início e o fim da tabuada, em vez de começar com 1 e 10."
      ],
      "metadata": {
        "id": "xKWIOBZX2CFc"
      }
    },
    {
      "cell_type": "code",
      "source": [
        "print('Bem vindo(a) a minha Tabuada')\n",
        "inicio = int(input('Digite um número inteiro para iniciar: '))\n",
        "fim = int(input('Digite um número inteiro para finalizar: '))\n",
        "tabuada = int(input('Digite um número inteiro para tabuada: '))\n",
        "while inicio<=fim:\n",
        "  print( '%d * %d = %d ' % (tabuada,inicio,tabuada*inicio))\n",
        "  inicio = inicio + 1\n"
      ],
      "metadata": {
        "id": "3qamEmLV5YGO",
        "colab": {
          "base_uri": "https://localhost:8080/"
        },
        "outputId": "1045e37d-25a7-4373-d6ae-34c677e9a99f"
      },
      "execution_count": null,
      "outputs": [
        {
          "output_type": "stream",
          "name": "stdout",
          "text": [
            "Bem vindo(a) a minha Tabuada\n",
            "Digite um número inteiro para iniciar: 0\n",
            "Digite um número inteiro para finalizar: 4\n",
            "Digite um número inteiro para tabuada: 7\n",
            "7 * 0 = 0 \n",
            "7 * 1 = 7 \n",
            "7 * 2 = 14 \n",
            "7 * 3 = 21 \n",
            "7 * 4 = 28 \n"
          ]
        }
      ]
    },
    {
      "cell_type": "markdown",
      "source": [
        "7. Escreva um programa que leia dois números. Imprima o resultado da multiplicação do primeiro pelo segundo. Utilize apenas os operadores de soma e subtração para calcular o resultado. Lembre-se de que podemos entender a multiplicação de dois números como somas sucessivas de um deles. Assim, 4 × 5 = 5 + 5 + 5 + 5 = 4 + 4 + 4 + 4 + 4."
      ],
      "metadata": {
        "id": "jM0HH7d86N_r"
      }
    },
    {
      "cell_type": "code",
      "source": [
        "primeiroNumero = int(input('Digite o primeiro número: '))\n",
        "segundoNumero = int(input('Digite o segundo número: '))\n",
        "x=1\n",
        "c = 0\n",
        "while x<= segundoNumero:\n",
        "  x = x + 1\n",
        "  c = c + primeiroNumero\n",
        "print('A multiplicação do Primeiro número x Segundo número = %d' %(c))\n"
      ],
      "metadata": {
        "id": "hLMSF_4_6Qm3",
        "colab": {
          "base_uri": "https://localhost:8080/"
        },
        "outputId": "0d50f6b2-9db0-4259-e25a-86796429c8e7"
      },
      "execution_count": null,
      "outputs": [
        {
          "output_type": "stream",
          "name": "stdout",
          "text": [
            "Digite o primeiro número: 10\n",
            "Digite o segundo número: 2\n",
            "A multiplicação do Primeiro número x Segundo número = 20\n"
          ]
        }
      ]
    },
    {
      "cell_type": "markdown",
      "source": [
        "7. Escreva um programa que leia dois números. Imprima a divisão inteira do primeiro pelo segundo, assim como o resto da divisão. Utilize apenas\n",
        "os operadores de soma e subtração para calcular o resultado. Lembre-se de que podemos entender o quociente da divisão de dois números como a quantidade de vezes que podemos retirar o divisor do  dividendo. Logo, 20 ÷ 4 = 5, uma vez\n",
        "que podemos subtrair 4 cinco vezes de 20.\n"
      ],
      "metadata": {
        "id": "MVajlDslDt3L"
      }
    },
    {
      "cell_type": "code",
      "source": [
        "x = int(input('Digite o primeiro número: '))\n",
        "y = int(input('Digite o segundo número: '))\n",
        "conta = 0\n",
        "while  x >= y:\n",
        "  x = x - y\n",
        "  conta = conta + 1\n",
        "print('Quociente = %d' %(conta),'Resto = %d' %(x))\n"
      ],
      "metadata": {
        "id": "4hnMv9DnD3mu",
        "colab": {
          "base_uri": "https://localhost:8080/"
        },
        "outputId": "cab5210e-42e4-4d67-f222-43b8b270a7d2"
      },
      "execution_count": null,
      "outputs": [
        {
          "output_type": "stream",
          "name": "stdout",
          "text": [
            "Digite o primeiro número: 15\n",
            "Digite o segundo número: 2\n",
            "Quociente = 7 Resto = 1\n"
          ]
        }
      ]
    },
    {
      "cell_type": "markdown",
      "source": [
        "8. Faça um programa que peça uma nota, entre zero e dez. Mostre uma mensagem caso o valor seja inválido e continue pedindo até que o usuário informe um valor válido."
      ],
      "metadata": {
        "id": "b44a5ELhE6VU"
      }
    },
    {
      "cell_type": "code",
      "source": [
        "x = int(input('Digite uma nota entre zero e dez: '))\n",
        "while x > 10:\n",
        "  print(\"Você digitou uma nota maior!\")\n",
        "  y = int(input('Por favor, Digite uma nota entre zero e dez: '))\n",
        "  x = y\n",
        "print('Obrigado!')\n",
        "\n"
      ],
      "metadata": {
        "id": "C0nb2WsVFCIK",
        "colab": {
          "base_uri": "https://localhost:8080/"
        },
        "outputId": "11835e30-61e0-456d-8afe-22417004a046"
      },
      "execution_count": null,
      "outputs": [
        {
          "output_type": "stream",
          "name": "stdout",
          "text": [
            "Digite uma nota entre zero e dez: 11\n",
            "Você digitou uma nota maior!\n",
            "Por favor, Digite uma nota entre zero e dez: 5\n",
            "Obrigado!\n"
          ]
        }
      ]
    },
    {
      "cell_type": "markdown",
      "source": [
        "9. Faça um programa que leia um nome de usuário e a sua senha e não aceite a senha igual ao nome do usuário, mostrando uma mensagem de erro e voltando a pedir as informações."
      ],
      "metadata": {
        "id": "BmMFSPVjFkut"
      }
    },
    {
      "cell_type": "code",
      "source": [
        "x = input('Digite seu usuário: ')\n",
        "y = input('Digite sua senha: ')\n",
        "while x == y:\n",
        "  print(\"Você digitou o mesmo valor para usuário e senha!\")\n",
        "  z = input('Por favor, Digite uma nova senha: ')\n",
        "  y = z\n",
        "print('Obrigado!')\n",
        "\n"
      ],
      "metadata": {
        "id": "ICv4MbXOFnek",
        "colab": {
          "base_uri": "https://localhost:8080/"
        },
        "outputId": "63f9de53-f6cc-4fe1-c0be-11a03e3d0b14"
      },
      "execution_count": null,
      "outputs": [
        {
          "output_type": "stream",
          "name": "stdout",
          "text": [
            "Digite seu usuário: lol\n",
            "Digite sua senha: lol\n",
            "Você digitou o mesmo valor para usuário e senha!\n",
            "Por favor, Digite uma nova senha: e\n",
            "Obrigado!\n"
          ]
        }
      ]
    },
    {
      "cell_type": "markdown",
      "source": [
        "10. Faça um programa que leia e valide as seguintes informações:\n",
        "\n",
        "*   Nome: maior que 3 caracteres;\n",
        "*   Idade: entre 0 e 150;\n",
        "*   Salário: maior que zero;\n",
        "*   Sexo: 'f' ou 'm';\n",
        "*   Estado Civil: 's', 'c', 'v', 'd';\n",
        "\n",
        "Use a função len(string) para saber o tamanho de um texto (número de caracteres).\n",
        "\n",
        "\n",
        "\n"
      ],
      "metadata": {
        "id": "PF4yp3T3GIdg"
      }
    },
    {
      "cell_type": "code",
      "source": [
        "nome = input('Digite seu nome: ')\n",
        "idade = int(input('Digite seu idade: '))\n",
        "salario = float(input('Digite seu salario: '))\n",
        "sexo = input('Sexo: ')\n",
        "estado_civil = input('Estado Civil: ')\n",
        "\n",
        "print('   ')\n",
        "\n",
        "print(' Validações  ')\n",
        "\n",
        "if len(nome) < 3:\n",
        "  print('Nome com menos de 3 caracteres')\n",
        "else:\n",
        "  print('Nome inserido corretamente')\n",
        "\n",
        "if idade < 0 or idade > 150:\n",
        "  print('Idade Incorreta')\n",
        "else:\n",
        "  print('Idade inserida corretamente')\n",
        "\n",
        "if salario <= 0:\n",
        "  print('Salário inserido Incorretamente')\n",
        "else:\n",
        "  print('Salário inserido corretamente')\n",
        "\n",
        "if sexo == 'M':\n",
        "  print('Sexo inserido corretamente')\n",
        "elif sexo == 'F':\n",
        "   print('Sexo inserido corretamente')\n",
        "else:\n",
        "   print('Sexo inserido Incorretamente')\n",
        "\n",
        "if estado_civil == 'C':\n",
        "  print('estado_civil inserido corretamente')\n",
        "elif estado_civil == 'V':\n",
        "   print('estado_civil inserido corretamente')\n",
        "elif estado_civil == 'S':\n",
        "   print('estado_civil inserido corretamente')\n",
        "elif estado_civil == 'D':\n",
        "   print('estado_civil inserido corretamente')\n",
        "else:\n",
        "   print('estado_civil inserido Incorretamente')\n"
      ],
      "metadata": {
        "id": "24NcB-seGh5G",
        "colab": {
          "base_uri": "https://localhost:8080/"
        },
        "outputId": "f8133364-c711-4eab-ece1-6ce19a090949"
      },
      "execution_count": null,
      "outputs": [
        {
          "output_type": "stream",
          "name": "stdout",
          "text": [
            "Digite seu nome: Emerson\n",
            "Digite seu idade: 31\n",
            "Digite seu salario: 1000\n",
            "Sexo: M\n",
            "Estado Civil: C\n",
            "   \n",
            " Validações  \n",
            "Nome inserido corretamente\n",
            "Idade inserida corretamente\n",
            "Salário inserido corretamente\n",
            "Sexo inserido corretamente\n",
            "estado_civil inserido corretamente\n"
          ]
        }
      ]
    },
    {
      "cell_type": "markdown",
      "source": [
        "11. Crie um programa que conte a quantidade de números pares entre dois números fornecidos pelo usuário.\n",
        "\n"
      ],
      "metadata": {
        "id": "FVv1XTLhHiTA"
      }
    },
    {
      "cell_type": "code",
      "source": [
        "numeroSugerido = int(input(\"Digite um número inteiro para começar: \"))\n",
        "numeroSugerido2 = int(input(\"Digite um número inteiro para maior do que o anterior: \"))\n",
        "contador = 0\n",
        "x = numeroSugerido\n",
        "print('Números Pares Abaixo: ')\n",
        "while x <= numeroSugerido2:\n",
        "  checaParImpar = x % 2\n",
        "  if checaParImpar == 0:\n",
        "    contador = contador + 1\n",
        "    print(x)\n",
        "    x = x+1\n",
        "  else:\n",
        "    x = x+1\n",
        "print('Total de Pares: %d'% contador)"
      ],
      "metadata": {
        "id": "ZW0ffIVeHrcR",
        "colab": {
          "base_uri": "https://localhost:8080/"
        },
        "outputId": "5d60d5f7-336e-4f88-f030-620b269aeadf"
      },
      "execution_count": null,
      "outputs": [
        {
          "output_type": "stream",
          "name": "stdout",
          "text": [
            "Digite um número inteiro para começar: 1\n",
            "Digite um número inteiro para maior do que o anterior: 1\n",
            "Números Pares Abaixo: \n",
            "Total de Pares: 0\n"
          ]
        }
      ]
    },
    {
      "cell_type": "markdown",
      "source": [
        "12. Crie um programa que calcule o fatorial de um número fornecido pelo usuário."
      ],
      "metadata": {
        "id": "L4w6z8y0Ijtz"
      }
    },
    {
      "cell_type": "code",
      "source": [
        "numeroSugerido = int(input(\"Digite um número natural acima de ZERO para começar: \"))\n",
        "if numeroSugerido <= 0:\n",
        "    print(\"Por favor, insira um número natural acima de ZERO.\")\n",
        "else:\n",
        "    y = numeroSugerido - 1\n",
        "    x = numeroSugerido\n",
        "    z = x\n",
        "\n",
        "    while y > 0:\n",
        "        z = z * y\n",
        "        y = y-1\n",
        "\n",
        "    print(\"O fatorial de \", numeroSugerido, \"é: \", z)"
      ],
      "metadata": {
        "id": "rRA3Cp9dIr_4",
        "colab": {
          "base_uri": "https://localhost:8080/"
        },
        "outputId": "68df8ed8-2ccf-4e1b-ad27-9ee7c767776a"
      },
      "execution_count": null,
      "outputs": [
        {
          "name": "stdout",
          "output_type": "stream",
          "text": [
            "Digite um número natural acima de ZERO para começar: 0\n",
            "Por favor, insira um número natural acima de ZERO.\n",
            "Digite um número natural acima de ZERO para começar: 2\n"
          ]
        }
      ]
    },
    {
      "cell_type": "markdown",
      "source": [
        "13. Faça um programa que gere números inteiros aleatórios entre 1 e 10 e calcule a soma desses números, até que seja gerado um número num que foi informado pelo usuário anteriormente.\n",
        "\n",
        "* Dica 1: antes de mais nada, peça para o usuário digitar um número entre 1 e 10 e guarde o valor em num.\n",
        "* Dica2: use a função randint(inicio, fim) do módulo random para gerar um número aleatório entre 1 e 10."
      ],
      "metadata": {
        "id": "CAdooDmQI8d7"
      }
    },
    {
      "cell_type": "code",
      "source": [
        "import random\n",
        "num = int(input(\"Digite um número inteiro entre 1 e 10: \"))\n",
        "soma = 0\n",
        "while True:\n",
        "    numero_aleatorio = random.randint(1, 10)\n",
        "    soma = soma + numero_aleatorio\n",
        "    print(\"Número aleatório gerado automaticamente: %d\"%(numero_aleatorio))\n",
        "    if numero_aleatorio == num:\n",
        "        break\n",
        "print(\"A soma dos números gerados até chegar em: %d é: %d\"%(num,soma))\n"
      ],
      "metadata": {
        "id": "HFP5EbAMJc0b",
        "colab": {
          "base_uri": "https://localhost:8080/"
        },
        "outputId": "e075b89b-0d96-4a23-a1c0-6977422894ee"
      },
      "execution_count": null,
      "outputs": [
        {
          "output_type": "stream",
          "name": "stdout",
          "text": [
            "Digite um número inteiro entre 1 e 10: 9\n",
            "Número aleatório gerado automaticamente: 10\n",
            "Número aleatório gerado automaticamente: 9\n",
            "A soma dos números gerados até chegar em: 9 é: 19\n"
          ]
        }
      ]
    },
    {
      "cell_type": "markdown",
      "source": [],
      "metadata": {
        "id": "OK8n6wEIK4et"
      }
    }
  ]
}