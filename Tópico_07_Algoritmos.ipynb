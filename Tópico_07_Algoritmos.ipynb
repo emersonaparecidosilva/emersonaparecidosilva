{
  "nbformat": 4,
  "nbformat_minor": 0,
  "metadata": {
    "colab": {
      "provenance": [],
      "include_colab_link": true
    },
    "kernelspec": {
      "name": "python3",
      "display_name": "Python 3"
    },
    "language_info": {
      "name": "python"
    }
  },
  "cells": [
    {
      "cell_type": "markdown",
      "metadata": {
        "id": "view-in-github",
        "colab_type": "text"
      },
      "source": [
        "<a href=\"https://colab.research.google.com/github/emersonaparecidosilva/emersonaparecidosilva/blob/main/T%C3%B3pico_07_Algoritmos.ipynb\" target=\"_parent\"><img src=\"https://colab.research.google.com/assets/colab-badge.svg\" alt=\"Open In Colab\"/></a>"
      ]
    },
    {
      "cell_type": "markdown",
      "source": [
        "1. Analise o código abaixo:"
      ],
      "metadata": {
        "id": "pDZ6L0dV46p1"
      }
    },
    {
      "cell_type": "code",
      "execution_count": null,
      "metadata": {
        "id": "-N0gKnU90vNu"
      },
      "outputs": [],
      "source": [
        "idade = 20\n",
        "salario = 2000\n",
        "nome = \"Elaine\"\n",
        "\n",
        "print(idade)\n",
        "print(salario)\n",
        "print(nome)"
      ]
    },
    {
      "cell_type": "markdown",
      "source": [
        "O local onde encontramos uma variável e podemos acessá-la é denominado escopo de uma variável.\n",
        "No caso acima, idade, salário e nome são variáveis globais pois estão sempre acessiveis no escopo do código."
      ],
      "metadata": {
        "id": "cYh5oAF45TyS"
      }
    },
    {
      "cell_type": "markdown",
      "source": [
        "2. Analíse o código abaixo:"
      ],
      "metadata": {
        "id": "kts34NcK5wK9"
      }
    },
    {
      "cell_type": "code",
      "source": [
        "def f():\n",
        "    print(s)\n",
        "\n",
        "s = \"I love Python\"\n",
        "f()"
      ],
      "metadata": {
        "id": "Oab7x2aY517H"
      },
      "execution_count": null,
      "outputs": []
    },
    {
      "cell_type": "markdown",
      "source": [
        "O mesmo vale para a variável s, que é acessível de dentro da função f."
      ],
      "metadata": {
        "id": "WK_LwVgK6NGC"
      }
    },
    {
      "cell_type": "markdown",
      "source": [
        "3. Analise o código abaixo:"
      ],
      "metadata": {
        "id": "a7QYlWWc6kLB"
      }
    },
    {
      "cell_type": "code",
      "source": [
        "def f():\n",
        "    s = \"Me too.\"\n",
        "    print(s)\n",
        "\n",
        "s = \"I love Python\"\n",
        "f()\n",
        "print(s)"
      ],
      "metadata": {
        "id": "jTTUA3FX6iWA"
      },
      "execution_count": null,
      "outputs": []
    },
    {
      "cell_type": "markdown",
      "source": [
        "Neste caso, a variável **s** criada fora da função **f** é diferente da variável **s** criada dentro da função, ou seja, o escopo delas são diferente. O priveiro **s** é uma variável global e o segundo **s** é uma variável local, somente acessível dentro da função **f**"
      ],
      "metadata": {
        "id": "UkYPCd_1673f"
      }
    },
    {
      "cell_type": "markdown",
      "source": [
        "4. Analise o código abaixo:"
      ],
      "metadata": {
        "id": "LLX7F_6T7uLT"
      }
    },
    {
      "cell_type": "code",
      "source": [
        "def f(x):\n",
        "    print(x)\n",
        "    print(s)\n",
        "\n",
        "s = \"I love Python\"\n",
        "f(s)\n",
        "print(s)\n",
        "print(x)"
      ],
      "metadata": {
        "id": "Cyyj_zye_3aS"
      },
      "execution_count": null,
      "outputs": []
    },
    {
      "cell_type": "markdown",
      "source": [
        "O que acontece na função acima? Porque?"
      ],
      "metadata": {
        "id": "qUey3fvS7sHO"
      }
    },
    {
      "cell_type": "code",
      "source": [],
      "metadata": {
        "id": "D2H6FxulAtTG"
      },
      "execution_count": null,
      "outputs": []
    },
    {
      "cell_type": "markdown",
      "source": [
        "5. Analise o código abaixo:"
      ],
      "metadata": {
        "id": "eLQVzCZgAuip"
      }
    },
    {
      "cell_type": "code",
      "source": [
        "def f(x):\n",
        "    print(s)\n",
        "    print(x)\n",
        "    global y\n",
        "    y = \"Me too\"\n",
        "    print(y)\n",
        "\n",
        "s = \"I love Python\"\n",
        "f(s)\n",
        "print(s)\n",
        "print(y)"
      ],
      "metadata": {
        "id": "7O6C-wBBA3ZL"
      },
      "execution_count": null,
      "outputs": []
    },
    {
      "cell_type": "markdown",
      "source": [
        "6. Analise o código abaixo:"
      ],
      "metadata": {
        "id": "QGH5Pv5cFLFE"
      }
    },
    {
      "cell_type": "code",
      "source": [
        "a = 1\n",
        "\n",
        "def f():\n",
        "    print('Dentro de f() : ', a)\n",
        "\n",
        "def g():\n",
        "    a = 2\n",
        "    print('Dentro de g() : ', a)\n",
        "\n",
        "def h():\n",
        "    global a\n",
        "    a = 3\n",
        "    print('Dentro de  h() : ', a)\n",
        "\n",
        "print('global : ', a)\n",
        "f()\n",
        "print('global : ', a)\n",
        "g()\n",
        "print('global : ', a)\n",
        "h()\n",
        "print('global : ', a)"
      ],
      "metadata": {
        "id": "K0jNYH9mFPPK"
      },
      "execution_count": null,
      "outputs": []
    },
    {
      "cell_type": "markdown",
      "source": [
        "Explique no espaço abaixo, o que ocorre em cada caso:"
      ],
      "metadata": {
        "id": "H_q2X4gOFbNU"
      }
    },
    {
      "cell_type": "markdown",
      "source": [],
      "metadata": {
        "id": "J5Fgf3qIFiiv"
      }
    },
    {
      "cell_type": "markdown",
      "source": [
        "6. Devemos tomar cuidado ao tentar alterar uma variável global dentro de uma função, usando a linguagem Python. Ao fazer isso, você estará criando uma variável local de mesmo nome. Crie um exemplo emulando esta situação."
      ],
      "metadata": {
        "id": "40M6WHA-FkeC"
      }
    },
    {
      "cell_type": "code",
      "source": [
        "def f():\n",
        "    s = \"Me too\"\n",
        "    print(s)\n",
        "\n",
        "s = \"I love Python\"\n",
        "print(s)\n",
        "f()\n",
        "print(s)"
      ],
      "metadata": {
        "id": "gT6wUk7NHFYJ"
      },
      "execution_count": null,
      "outputs": []
    }
  ]
}