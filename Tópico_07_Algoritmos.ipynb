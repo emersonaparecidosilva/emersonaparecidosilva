{
  "nbformat": 4,
  "nbformat_minor": 0,
  "metadata": {
    "colab": {
      "provenance": [],
      "include_colab_link": true
    },
    "kernelspec": {
      "name": "python3",
      "display_name": "Python 3"
    },
    "language_info": {
      "name": "python"
    }
  },
  "cells": [
    {
      "cell_type": "markdown",
      "metadata": {
        "id": "view-in-github",
        "colab_type": "text"
      },
      "source": [
        "<a href=\"https://colab.research.google.com/github/emersonaparecidosilva/emersonaparecidosilva/blob/main/T%C3%B3pico_07_Algoritmos.ipynb\" target=\"_parent\"><img src=\"https://colab.research.google.com/assets/colab-badge.svg\" alt=\"Open In Colab\"/></a>"
      ]
    },
    {
      "cell_type": "markdown",
      "source": [
        "1. Analise o código abaixo:"
      ],
      "metadata": {
        "id": "pDZ6L0dV46p1"
      }
    },
    {
      "cell_type": "code",
      "execution_count": 1,
      "metadata": {
        "id": "-N0gKnU90vNu",
        "colab": {
          "base_uri": "https://localhost:8080/"
        },
        "outputId": "1d081148-27f5-4b36-d463-24d065540ce0"
      },
      "outputs": [
        {
          "output_type": "stream",
          "name": "stdout",
          "text": [
            "20\n",
            "2000\n",
            "Elaine\n"
          ]
        }
      ],
      "source": [
        "idade = 20\n",
        "salario = 2000\n",
        "nome = \"Elaine\"\n",
        "\n",
        "print(idade)\n",
        "print(salario)\n",
        "print(nome)"
      ]
    },
    {
      "cell_type": "markdown",
      "source": [
        "O local onde encontramos uma variável e podemos acessá-la é denominado escopo de uma variável.\n",
        "No caso acima, idade, salário e nome são variáveis globais pois estão sempre acessiveis no escopo do código."
      ],
      "metadata": {
        "id": "cYh5oAF45TyS"
      }
    },
    {
      "cell_type": "markdown",
      "source": [
        "2. Analíse o código abaixo:"
      ],
      "metadata": {
        "id": "kts34NcK5wK9"
      }
    },
    {
      "cell_type": "code",
      "source": [
        "def f():\n",
        "    print(s)\n",
        "\n",
        "s = \"I love Python\"\n",
        "f()"
      ],
      "metadata": {
        "id": "Oab7x2aY517H",
        "colab": {
          "base_uri": "https://localhost:8080/"
        },
        "outputId": "a3c5ce64-6396-47b3-e117-929f49d5f05c"
      },
      "execution_count": 2,
      "outputs": [
        {
          "output_type": "stream",
          "name": "stdout",
          "text": [
            "I love Python\n"
          ]
        }
      ]
    },
    {
      "cell_type": "markdown",
      "source": [
        "O mesmo vale para a variável s, que é acessível de dentro da função f."
      ],
      "metadata": {
        "id": "WK_LwVgK6NGC"
      }
    },
    {
      "cell_type": "markdown",
      "source": [
        "3. Analise o código abaixo:"
      ],
      "metadata": {
        "id": "a7QYlWWc6kLB"
      }
    },
    {
      "cell_type": "code",
      "source": [
        "def f():\n",
        "    s = \"Me too.\"\n",
        "    print(s)\n",
        "\n",
        "s = \"I love Python\"\n",
        "f()\n",
        "print(s)"
      ],
      "metadata": {
        "id": "jTTUA3FX6iWA",
        "colab": {
          "base_uri": "https://localhost:8080/"
        },
        "outputId": "8184cdd1-0935-4e75-c9a2-f45e603443f1"
      },
      "execution_count": 3,
      "outputs": [
        {
          "output_type": "stream",
          "name": "stdout",
          "text": [
            "Me too.\n",
            "I love Python\n"
          ]
        }
      ]
    },
    {
      "cell_type": "markdown",
      "source": [
        "Neste caso, a variável **s** criada fora da função **f** é diferente da variável **s** criada dentro da função, ou seja, o escopo delas são diferente. O priveiro **s** é uma variável global e o segundo **s** é uma variável local, somente acessível dentro da função **f**"
      ],
      "metadata": {
        "id": "UkYPCd_1673f"
      }
    },
    {
      "cell_type": "markdown",
      "source": [
        "4. Analise o código abaixo:"
      ],
      "metadata": {
        "id": "LLX7F_6T7uLT"
      }
    },
    {
      "cell_type": "code",
      "source": [
        "def f(x):\n",
        "    print(x)\n",
        "    print(s)\n",
        "\n",
        "s = \"I love Python\"\n",
        "f(s)\n",
        "print(s)\n",
        "print(x)"
      ],
      "metadata": {
        "id": "Cyyj_zye_3aS",
        "colab": {
          "base_uri": "https://localhost:8080/",
          "height": 228
        },
        "outputId": "129d8264-0790-4710-d5eb-96815852cef8"
      },
      "execution_count": 4,
      "outputs": [
        {
          "output_type": "stream",
          "name": "stdout",
          "text": [
            "I love Python\n",
            "I love Python\n",
            "I love Python\n"
          ]
        },
        {
          "output_type": "error",
          "ename": "NameError",
          "evalue": "name 'x' is not defined",
          "traceback": [
            "\u001b[0;31m---------------------------------------------------------------------------\u001b[0m",
            "\u001b[0;31mNameError\u001b[0m                                 Traceback (most recent call last)",
            "\u001b[0;32m<ipython-input-4-4c0f74eada11>\u001b[0m in \u001b[0;36m<cell line: 8>\u001b[0;34m()\u001b[0m\n\u001b[1;32m      6\u001b[0m \u001b[0mf\u001b[0m\u001b[0;34m(\u001b[0m\u001b[0ms\u001b[0m\u001b[0;34m)\u001b[0m\u001b[0;34m\u001b[0m\u001b[0;34m\u001b[0m\u001b[0m\n\u001b[1;32m      7\u001b[0m \u001b[0mprint\u001b[0m\u001b[0;34m(\u001b[0m\u001b[0ms\u001b[0m\u001b[0;34m)\u001b[0m\u001b[0;34m\u001b[0m\u001b[0;34m\u001b[0m\u001b[0m\n\u001b[0;32m----> 8\u001b[0;31m \u001b[0mprint\u001b[0m\u001b[0;34m(\u001b[0m\u001b[0mx\u001b[0m\u001b[0;34m)\u001b[0m\u001b[0;34m\u001b[0m\u001b[0;34m\u001b[0m\u001b[0m\n\u001b[0m",
            "\u001b[0;31mNameError\u001b[0m: name 'x' is not defined"
          ]
        }
      ]
    },
    {
      "cell_type": "markdown",
      "source": [
        "O que acontece na função acima? Porque?"
      ],
      "metadata": {
        "id": "qUey3fvS7sHO"
      }
    },
    {
      "cell_type": "markdown",
      "source": [
        "Não declarou o X, logo, ele não servirá como parametro."
      ],
      "metadata": {
        "id": "_FUp-9C-lGu_"
      }
    },
    {
      "cell_type": "markdown",
      "source": [
        "5. Analise o código abaixo:"
      ],
      "metadata": {
        "id": "eLQVzCZgAuip"
      }
    },
    {
      "cell_type": "code",
      "source": [
        "def f(x):\n",
        "    print(s)\n",
        "    print(x)\n",
        "    global y\n",
        "    y = \"Me too\"\n",
        "    print(y)\n",
        "\n",
        "s = \"I love Python\"\n",
        "f(s)\n",
        "print(s)\n",
        "print(y)"
      ],
      "metadata": {
        "id": "7O6C-wBBA3ZL",
        "colab": {
          "base_uri": "https://localhost:8080/"
        },
        "outputId": "5f9fc91d-06af-44a1-f276-21fb3fd94949"
      },
      "execution_count": 5,
      "outputs": [
        {
          "output_type": "stream",
          "name": "stdout",
          "text": [
            "I love Python\n",
            "I love Python\n",
            "Me too\n",
            "I love Python\n",
            "Me too\n"
          ]
        }
      ]
    },
    {
      "cell_type": "markdown",
      "source": [
        "6. Analise o código abaixo:"
      ],
      "metadata": {
        "id": "QGH5Pv5cFLFE"
      }
    },
    {
      "cell_type": "code",
      "source": [
        "a = 1\n",
        "\n",
        "def f():\n",
        "    print('Dentro de f() : ', a)\n",
        "\n",
        "def g():\n",
        "    a = 2\n",
        "    print('Dentro de g() : ', a)\n",
        "\n",
        "def h():\n",
        "    global a\n",
        "    a = 3\n",
        "    print('Dentro de  h() : ', a)\n",
        "\n",
        "print('global : ', a)\n",
        "f()\n",
        "print('global : ', a)\n",
        "g()\n",
        "print('global : ', a)\n",
        "h()\n",
        "print('global : ', a)"
      ],
      "metadata": {
        "id": "K0jNYH9mFPPK",
        "colab": {
          "base_uri": "https://localhost:8080/"
        },
        "outputId": "b73377db-9f65-4385-d603-13b73828e628"
      },
      "execution_count": 6,
      "outputs": [
        {
          "output_type": "stream",
          "name": "stdout",
          "text": [
            "global :  1\n",
            "Dentro de f() :  1\n",
            "global :  1\n",
            "Dentro de g() :  2\n",
            "global :  1\n",
            "Dentro de  h() :  3\n",
            "global :  3\n"
          ]
        }
      ]
    },
    {
      "cell_type": "markdown",
      "source": [
        "Explique no espaço abaixo, o que ocorre em cada caso:"
      ],
      "metadata": {
        "id": "H_q2X4gOFbNU"
      }
    },
    {
      "cell_type": "markdown",
      "source": [
        "Está usando a global para editar o valor de A em cada função. É possível mas, aprendemos em aula que não é boa prática.\n"
      ],
      "metadata": {
        "id": "J5Fgf3qIFiiv"
      }
    },
    {
      "cell_type": "markdown",
      "source": [
        "6. Devemos tomar cuidado ao tentar alterar uma variável global dentro de uma função, usando a linguagem Python. Ao fazer isso, você estará criando uma variável local de mesmo nome. Crie um exemplo emulando esta situação."
      ],
      "metadata": {
        "id": "40M6WHA-FkeC"
      }
    },
    {
      "cell_type": "code",
      "source": [
        "s = \"I love Python\"\n",
        "def f():\n",
        "    global s\n",
        "    s = \"Me too\"\n",
        "    print(s)\n",
        "print(s)\n",
        "f()\n",
        "print(s)"
      ],
      "metadata": {
        "id": "gT6wUk7NHFYJ",
        "colab": {
          "base_uri": "https://localhost:8080/"
        },
        "outputId": "da661a1a-5c6b-438b-bc03-3690c872425f"
      },
      "execution_count": 7,
      "outputs": [
        {
          "output_type": "stream",
          "name": "stdout",
          "text": [
            "I love Python\n",
            "Me too\n",
            "Me too\n"
          ]
        }
      ]
    }
  ]
}