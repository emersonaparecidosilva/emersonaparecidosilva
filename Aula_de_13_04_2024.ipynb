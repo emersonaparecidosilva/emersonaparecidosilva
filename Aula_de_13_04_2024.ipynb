{
  "nbformat": 4,
  "nbformat_minor": 0,
  "metadata": {
    "colab": {
      "provenance": [],
      "authorship_tag": "ABX9TyMl0O1BsOsWcakYzse4GD/T",
      "include_colab_link": true
    },
    "kernelspec": {
      "name": "python3",
      "display_name": "Python 3"
    },
    "language_info": {
      "name": "python"
    }
  },
  "cells": [
    {
      "cell_type": "markdown",
      "metadata": {
        "id": "view-in-github",
        "colab_type": "text"
      },
      "source": [
        "<a href=\"https://colab.research.google.com/github/emersonaparecidosilva/emersonaparecidosilva/blob/main/Aula_de_13_04_2024.ipynb\" target=\"_parent\"><img src=\"https://colab.research.google.com/assets/colab-badge.svg\" alt=\"Open In Colab\"/></a>"
      ]
    },
    {
      "cell_type": "markdown",
      "source": [
        "Tabuada do 1 ao 10"
      ],
      "metadata": {
        "id": "R7zo9UF1WH8e"
      }
    },
    {
      "cell_type": "code",
      "execution_count": null,
      "metadata": {
        "id": "bfcdIhh5UhBR"
      },
      "outputs": [],
      "source": [
        "tabuada = 1\n",
        "while tabuada <= 10:\n",
        "  número = 1\n",
        "  while número <= 10:\n",
        "    print(\"%d x %d = %d\" % (tabuada, número, tabuada * número))\n",
        "    número += 1\n",
        "  tabuada +=1"
      ]
    },
    {
      "cell_type": "markdown",
      "source": [
        "Média de 5 notas"
      ],
      "metadata": {
        "id": "ZTSxdQMvWgBz"
      }
    },
    {
      "cell_type": "code",
      "source": [
        "notas = [6,7,5,8,9]\n",
        "soma = 0\n",
        "x = 0\n",
        "while x <5:\n",
        "  soma += notas[x]\n",
        "  x+=1\n",
        "print(\"Média: %5.2f\" %(soma/x))"
      ],
      "metadata": {
        "colab": {
          "base_uri": "https://localhost:8080/"
        },
        "id": "ZOH-_hnUWG4H",
        "outputId": "a239424e-5bdf-4fb2-f8b3-1c46937a1264"
      },
      "execution_count": 2,
      "outputs": [
        {
          "output_type": "stream",
          "name": "stdout",
          "text": [
            "Média:  7.00\n"
          ]
        }
      ]
    }
  ]
}