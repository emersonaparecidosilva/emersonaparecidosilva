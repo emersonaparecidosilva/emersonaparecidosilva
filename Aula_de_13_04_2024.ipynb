{
  "nbformat": 4,
  "nbformat_minor": 0,
  "metadata": {
    "colab": {
      "provenance": [],
      "authorship_tag": "ABX9TyOwwA+oBaPoEknuqGDMq5TB",
      "include_colab_link": true
    },
    "kernelspec": {
      "name": "python3",
      "display_name": "Python 3"
    },
    "language_info": {
      "name": "python"
    }
  },
  "cells": [
    {
      "cell_type": "markdown",
      "metadata": {
        "id": "view-in-github",
        "colab_type": "text"
      },
      "source": [
        "<a href=\"https://colab.research.google.com/github/emersonaparecidosilva/emersonaparecidosilva/blob/main/Aula_de_13_04_2024.ipynb\" target=\"_parent\"><img src=\"https://colab.research.google.com/assets/colab-badge.svg\" alt=\"Open In Colab\"/></a>"
      ]
    },
    {
      "cell_type": "markdown",
      "source": [
        "Tabuada do 1 ao 10"
      ],
      "metadata": {
        "id": "R7zo9UF1WH8e"
      }
    },
    {
      "cell_type": "code",
      "execution_count": null,
      "metadata": {
        "id": "bfcdIhh5UhBR"
      },
      "outputs": [],
      "source": [
        "tabuada = 1\n",
        "while tabuada <= 10:\n",
        "  número = 1\n",
        "  while número <= 10:\n",
        "    print(\"%d x %d = %d\" % (tabuada, número, tabuada * número))\n",
        "    número += 1\n",
        "  tabuada +=1"
      ]
    },
    {
      "cell_type": "code",
      "source": [],
      "metadata": {
        "id": "ZOH-_hnUWG4H"
      },
      "execution_count": null,
      "outputs": []
    }
  ]
}