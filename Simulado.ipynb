{
  "nbformat": 4,
  "nbformat_minor": 0,
  "metadata": {
    "colab": {
      "provenance": [],
      "authorship_tag": "ABX9TyMTwv6alwD3gEWFFF7C/Cwb",
      "include_colab_link": true
    },
    "kernelspec": {
      "name": "python3",
      "display_name": "Python 3"
    },
    "language_info": {
      "name": "python"
    }
  },
  "cells": [
    {
      "cell_type": "markdown",
      "metadata": {
        "id": "view-in-github",
        "colab_type": "text"
      },
      "source": [
        "<a href=\"https://colab.research.google.com/github/emersonaparecidosilva/emersonaparecidosilva/blob/main/Simulado.ipynb\" target=\"_parent\"><img src=\"https://colab.research.google.com/assets/colab-badge.svg\" alt=\"Open In Colab\"/></a>"
      ]
    },
    {
      "cell_type": "markdown",
      "source": [
        "1 é a E"
      ],
      "metadata": {
        "id": "SYCCWKuntQl0"
      }
    },
    {
      "cell_type": "code",
      "source": [
        "#2\n",
        "pi = 3.14159265358979323846\n",
        "diametro = float(input(\"Digite o diâmetro em cm\"))\n",
        "def areaCirculo(diametro):\n",
        "    return (pi * (diametro*diametro))/4\n",
        "print(\"A Área do círculo é: %5.2f em centímetros\" % areaCirculo(diametro))"
      ],
      "metadata": {
        "id": "jqdvbL6btW3C"
      },
      "execution_count": null,
      "outputs": []
    },
    {
      "cell_type": "markdown",
      "source": [
        "3 - Serão exibidos os números 3, 4, 5, 6 e 7."
      ],
      "metadata": {
        "id": "n5G6vyjcte1-"
      }
    },
    {
      "cell_type": "code",
      "execution_count": 5,
      "metadata": {
        "colab": {
          "base_uri": "https://localhost:8080/"
        },
        "id": "qTeryfZfi3XP",
        "outputId": "77aa36c3-94e7-447d-fe87-8eef3aadc4bb"
      },
      "outputs": [
        {
          "output_type": "stream",
          "name": "stdout",
          "text": [
            "[1, 2, 3]\n",
            "[1, 2, 3]\n",
            "True\n",
            "False\n"
          ]
        }
      ],
      "source": [
        "#4\n",
        "a = [1,2,3]\n",
        "b = a[:]\n",
        "print(a)\n",
        "print (b)\n",
        "print(a == b)\n",
        "print(a is b)"
      ]
    },
    {
      "cell_type": "markdown",
      "source": [
        "5 - 9 e 4 (TEste de bancada)"
      ],
      "metadata": {
        "id": "uWv7YeJMtlaK"
      }
    },
    {
      "cell_type": "code",
      "source": [
        "#6\n",
        "primeiro_inteiro = int(input(\"Insira o primeiro número inteiro: \"))\n",
        "segundo_inteiro = int(input(\"Insira o segundo número inteiro: \"))\n",
        "numero_real = float(input(\"Insira um número real: \"))\n",
        "dobro_primeiro = 2 * primeiro_inteiro\n",
        "metade_segundo = segundo_inteiro / 2\n",
        "produto = dobro_primeiro * metade_segundo\n",
        "triplo_primeiro = 3 * primeiro_inteiro\n",
        "soma = triplo_primeiro + numero_real\n",
        "cubo = numero_real ** 3\n",
        "\n",
        "print(\"A - O produto do dobro do primeiro com metade do segundo é: %d\" % produto)\n",
        "print(\"B - A soma do triplo do primeiro com o número real é: %5.2f\" % soma)\n",
        "print(\"C - O terceiro elevado ao cubo é: %5.2f\"%cubo)"
      ],
      "metadata": {
        "id": "2J_3kBgBtrth"
      },
      "execution_count": null,
      "outputs": []
    },
    {
      "cell_type": "markdown",
      "source": [
        "7 - Faça um programa para a leitura de duas notas parciais de um aluno. O programa deve calcular a média alcançada por aluno e apresentar:\n",
        "\n",
        "1.   A mensagem \"Aprovado\", se a média alcançada for maior ou igual a sete;\n",
        "2.   A mensagem \"Reprovado\", se a média for menor do que sete;\n",
        "3.   A mensagem \"Aprovado com Distinção\", se a média for igual a dez.\n",
        "\n"
      ],
      "metadata": {
        "id": "gVLOfwFzmcp8"
      }
    },
    {
      "cell_type": "code",
      "source": [
        "nota1 = float(input(\"Insira a primeira nota: \"))\n",
        "nota2 = float(input(\"Insira a segunda nota: \"))\n",
        "def media(nota1,nota2):\n",
        "  resultado = (nota1+nota2)/2\n",
        "  if resultado >= 7 and resultado < 10:\n",
        "    print(\"Aprovado\")\n",
        "  elif resultado < 7:\n",
        "    print(\"Reprovado\")\n",
        "  elif resultado == 10:\n",
        "    print(\"Aprovado com distinção\")\n",
        "media(nota1,nota2)"
      ],
      "metadata": {
        "colab": {
          "base_uri": "https://localhost:8080/"
        },
        "id": "u2tyYPvvmeJx",
        "outputId": "0b404733-5cfa-4185-b8ec-8ab13e81463f"
      },
      "execution_count": 8,
      "outputs": [
        {
          "output_type": "stream",
          "name": "stdout",
          "text": [
            "Insira a primeira nota: 10\n",
            "Insira a segunda nota: 9.99\n",
            "Aprovado\n"
          ]
        }
      ]
    },
    {
      "cell_type": "code",
      "source": [
        "L = [44,85,67,25,67,11,23,99,77,17]\n",
        "x = 0\n",
        "p = len(L)\n",
        "while x <= (len(L)-1):\n",
        "  print(L[p-1])\n",
        "  x +=1\n",
        "  p -= 1"
      ],
      "metadata": {
        "colab": {
          "base_uri": "https://localhost:8080/"
        },
        "id": "dF8dbN4Rn45G",
        "outputId": "12fec374-32a3-41c0-9e98-e4a8442c79fb"
      },
      "execution_count": 15,
      "outputs": [
        {
          "output_type": "stream",
          "name": "stdout",
          "text": [
            "17\n",
            "77\n",
            "99\n",
            "23\n",
            "11\n",
            "67\n",
            "25\n",
            "67\n",
            "85\n",
            "44\n"
          ]
        }
      ]
    },
    {
      "cell_type": "markdown",
      "source": [
        "Crie um programa, com uma função que necessite de um argumento (parâmetros) do tipo inteiro. A função retorna o caractere ‘P’, se seu argumento for par, e ‘I’, se seu argumento for ímpar."
      ],
      "metadata": {
        "id": "e36FuXNapFsH"
      }
    },
    {
      "cell_type": "code",
      "source": [
        "parametro = int(input(\"Insira o primeiro número inteiro: \"))\n",
        "def parImpar(parametro):\n",
        "  if parametro % 2 == 0:\n",
        "    print(\"P\")\n",
        "  else:\n",
        "    print(\"I\")\n",
        "parImpar(parametro)"
      ],
      "metadata": {
        "colab": {
          "base_uri": "https://localhost:8080/"
        },
        "id": "N215W6acpGUl",
        "outputId": "54ce5e9e-33c0-4e95-b37a-674d3aead369"
      },
      "execution_count": 25,
      "outputs": [
        {
          "output_type": "stream",
          "name": "stdout",
          "text": [
            "Insira o primeiro número inteiro: 15\n",
            "I\n"
          ]
        }
      ]
    },
    {
      "cell_type": "code",
      "source": [
        "a = 30\n",
        "b = 6\n",
        "def divide(a,b):\n",
        "  global d\n",
        "  d = a/b\n",
        "  return d\n",
        "c = divide(a,b)\n",
        "print(\"c=%d, d=%d\" %(c,d))"
      ],
      "metadata": {
        "colab": {
          "base_uri": "https://localhost:8080/"
        },
        "id": "16RHgSpFqMMS",
        "outputId": "2fcc075f-bee5-4b9c-b752-ba95273b8545"
      },
      "execution_count": 28,
      "outputs": [
        {
          "output_type": "stream",
          "name": "stdout",
          "text": [
            "c=5, d=5\n"
          ]
        }
      ]
    },
    {
      "cell_type": "code",
      "source": [
        "ladoA = float(input(\"Insira o valor do primeiro lado do triangulo: \"))\n",
        "ladoB = float(input(\"Insira o valor do segundo lado do triangulo: \"))\n",
        "ladoC = float(input(\"Insira o valor do terceiro lado do triangulo: \"))\n",
        "if (ladoA + ladoB > ladoC) and (ladoA + ladoC > ladoB) and (ladoB + ladoC > ladoA):\n",
        "    print(\"Os valores formam um triângulo.\")\n",
        "\n",
        "    if ladoA == ladoB == ladoC:\n",
        "        print(\"É um triângulo equilátero.\")\n",
        "    elif ladoA == ladoB or ladoA == ladoC or ladoB == ladoC:\n",
        "        print(\"É um triângulo isósceles.\")\n",
        "    else:\n",
        "        print(\"É um triângulo escaleno.\")\n",
        "else:\n",
        "    print(\"Os valores não formam um triângulo.\")\n"
      ],
      "metadata": {
        "colab": {
          "base_uri": "https://localhost:8080/"
        },
        "id": "iIsx6ua9sHcD",
        "outputId": "3ebe064d-2d1f-4cc2-fef8-d9f39dbf0019"
      },
      "execution_count": 32,
      "outputs": [
        {
          "output_type": "stream",
          "name": "stdout",
          "text": [
            "Insira o valor do primeiro lado do triangulo: 40\n",
            "Insira o valor do segundo lado do triangulo: 40\n",
            "Insira o valor do terceiro lado do triangulo: 30\n",
            "Os valores formam um triângulo.\n",
            "É um triângulo isósceles.\n"
          ]
        }
      ]
    },
    {
      "cell_type": "code",
      "source": [],
      "metadata": {
        "id": "RqFCHUd2sJR3"
      },
      "execution_count": null,
      "outputs": []
    }
  ]
}