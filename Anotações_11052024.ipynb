{
  "nbformat": 4,
  "nbformat_minor": 0,
  "metadata": {
    "colab": {
      "provenance": [],
      "authorship_tag": "ABX9TyOiNNRqpNlRvqUCsg2oj6NS",
      "include_colab_link": true
    },
    "kernelspec": {
      "name": "python3",
      "display_name": "Python 3"
    },
    "language_info": {
      "name": "python"
    }
  },
  "cells": [
    {
      "cell_type": "markdown",
      "metadata": {
        "id": "view-in-github",
        "colab_type": "text"
      },
      "source": [
        "<a href=\"https://colab.research.google.com/github/emersonaparecidosilva/emersonaparecidosilva/blob/main/Anota%C3%A7%C3%B5es_11052024.ipynb\" target=\"_parent\"><img src=\"https://colab.research.google.com/assets/colab-badge.svg\" alt=\"Open In Colab\"/></a>"
      ]
    },
    {
      "cell_type": "code",
      "execution_count": 2,
      "metadata": {
        "colab": {
          "base_uri": "https://localhost:8080/"
        },
        "id": "KtnsPciRd737",
        "outputId": "e9ebdfa8-4ceb-4104-dc58-cd698363e896"
      },
      "outputs": [
        {
          "output_type": "stream",
          "name": "stdout",
          "text": [
            "A antes de mudar: 5\n",
            "A dentro da função: 7\n",
            "A depois de mudar: 5\n"
          ]
        }
      ],
      "source": [
        "a = 5\n",
        "def muda_e_imprime():\n",
        "  a=7\n",
        "  print(\"A dentro da função: %d\" %a)\n",
        "\n",
        "print(\"A antes de mudar: %d\" %a)\n",
        "\n",
        "muda_e_imprime()\n",
        "\n",
        "print(\"A depois de mudar: %d\" %a)"
      ]
    }
  ]
}