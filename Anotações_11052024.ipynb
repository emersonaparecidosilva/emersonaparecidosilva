{
  "nbformat": 4,
  "nbformat_minor": 0,
  "metadata": {
    "colab": {
      "provenance": [],
      "authorship_tag": "ABX9TyME/QN4nAZjrhKkVIGRnIYA",
      "include_colab_link": true
    },
    "kernelspec": {
      "name": "python3",
      "display_name": "Python 3"
    },
    "language_info": {
      "name": "python"
    }
  },
  "cells": [
    {
      "cell_type": "markdown",
      "metadata": {
        "id": "view-in-github",
        "colab_type": "text"
      },
      "source": [
        "<a href=\"https://colab.research.google.com/github/emersonaparecidosilva/emersonaparecidosilva/blob/main/Anota%C3%A7%C3%B5es_11052024.ipynb\" target=\"_parent\"><img src=\"https://colab.research.google.com/assets/colab-badge.svg\" alt=\"Open In Colab\"/></a>"
      ]
    },
    {
      "cell_type": "markdown",
      "source": [
        "**Diferença de função global e local**"
      ],
      "metadata": {
        "id": "_0jmpuXDnB_r"
      }
    },
    {
      "cell_type": "code",
      "execution_count": 2,
      "metadata": {
        "colab": {
          "base_uri": "https://localhost:8080/"
        },
        "id": "KtnsPciRd737",
        "outputId": "e9ebdfa8-4ceb-4104-dc58-cd698363e896"
      },
      "outputs": [
        {
          "output_type": "stream",
          "name": "stdout",
          "text": [
            "A antes de mudar: 5\n",
            "A dentro da função: 7\n",
            "A depois de mudar: 5\n"
          ]
        }
      ],
      "source": [
        "a = 5\n",
        "def muda_e_imprime():\n",
        "  a=7\n",
        "  print(\"A dentro da função: %d\" %a)\n",
        "\n",
        "print(\"A antes de mudar: %d\" %a)\n",
        "\n",
        "muda_e_imprime()\n",
        "\n",
        "print(\"A depois de mudar: %d\" %a)"
      ]
    },
    {
      "cell_type": "markdown",
      "source": [
        "**Alterando o Global dentro da função local**"
      ],
      "metadata": {
        "id": "6Xm4tEcunLwU"
      }
    },
    {
      "cell_type": "code",
      "source": [
        "a = 5\n",
        "def muda_e_imprime():\n",
        "  global a #AQUI\n",
        "  a=7\n",
        "  print(\"A dentro da função: %d\" %a)\n",
        "\n",
        "print(\"A antes de mudar: %d\" %a)\n",
        "\n",
        "muda_e_imprime()\n",
        "\n",
        "print(\"A depois de mudar: %d\" %a)"
      ],
      "metadata": {
        "colab": {
          "base_uri": "https://localhost:8080/"
        },
        "id": "QiU5N3R4nBg8",
        "outputId": "7a36ada9-d00b-4a62-e17e-8a84183f6f9e"
      },
      "execution_count": 3,
      "outputs": [
        {
          "output_type": "stream",
          "name": "stdout",
          "text": [
            "A antes de mudar: 5\n",
            "A dentro da função: 7\n",
            "A depois de mudar: 7\n"
          ]
        }
      ]
    },
    {
      "cell_type": "markdown",
      "source": [],
      "metadata": {
        "id": "h13ngT4BoDB8"
      }
    },
    {
      "cell_type": "code",
      "source": [],
      "metadata": {
        "id": "tdqZTMo0oDLr"
      },
      "execution_count": null,
      "outputs": []
    }
  ]
}